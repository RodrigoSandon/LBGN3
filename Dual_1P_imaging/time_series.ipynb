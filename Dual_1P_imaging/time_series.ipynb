{
 "cells": [
  {
   "cell_type": "markdown",
   "metadata": {
    "ein.tags": "worksheet-0",
    "slideshow": {
     "slide_type": "-"
    }
   },
   "source": [
    "# Use Inscopix python API to analyze multiple calcium recordings in time series"
   ]
  },
  {
   "cell_type": "markdown",
   "metadata": {
    "ein.tags": "worksheet-0",
    "slideshow": {
     "slide_type": "-"
    }
   },
   "source": [
    "## Step 0. install jupyter notebook nbextensions to view table of contents\n",
    "\n",
    "\n",
    "To best view and navigate this template, installing [jupyter notebook nbextensions](https://jupyter-contrib-nbextensions.readthedocs.io/en/latest/nbextensions/toc2/README.html) to show table of contents (TOC) sidebar is highly recommended.\n",
    "\n",
    "1. After activating isxenv (conda activate isxenv), paste the following two lines into the command line one at a time (more instructions see [this link](https://jupyter-contrib-nbextensions.readthedocs.io/en/latest/install.html)).\n",
    "\n",
    "```\n",
    "pip install https://github.com/ipython-contrib/jupyter_contrib_nbextensions/tarball/master\n",
    "\n",
    "jupyter contrib nbextension install --user\n",
    "```\n",
    "\n",
    "2. After the installation completes and \"jupyter notebook\" program is initiated (by typing \"jupyter notebook\" inside isxenv), a new nbextensions tab will appear to the right of the Files tab. Users can enable TOC within the nbextensions tab and toggle the TOC button on and off from the tool bar.\n",
    "\n",
    "\n",
    "3. ExecuteTime is also recommended to be turned on in the nbextensions tab to view the execution time for each cell (or use %%time function instead in selective cells)\n"
   ]
  },
  {
   "cell_type": "markdown",
   "metadata": {
    "ein.tags": "worksheet-0",
    "slideshow": {
     "slide_type": "-"
    }
   },
   "source": [
    "## Step 1. prepare files for analysis"
   ]
  },
  {
   "cell_type": "markdown",
   "metadata": {
    "ein.tags": "worksheet-0",
    "slideshow": {
     "slide_type": "-"
    }
   },
   "source": [
    "### 1.1 import libraries"
   ]
  },
  {
   "cell_type": "code",
   "execution_count": 1,
   "metadata": {
    "ExecuteTime": {
     "end_time": "2021-04-16T14:00:10.045974Z",
     "start_time": "2021-04-16T14:00:09.083004Z"
    },
    "autoscroll": false,
    "ein.hycell": false,
    "ein.tags": "worksheet-0",
    "slideshow": {
     "slide_type": "-"
    }
   },
   "outputs": [],
   "source": [
    "import isx  # Inscopix API\n",
    "import os  # operating system\n",
    "import json  # to save and load json files\n",
    "from pathlib import Path  # to work with dir\n",
    "import shutil  # to move files\n",
    "import textwrap  # to format multiline string text\n",
    "from itertools import islice  # list manipulation\n",
    "from functools import partial  # reset function default argument\n",
    "import numpy as np  # to manipulate data matrix\n",
    "import numpy.matlib  # to manipulate data matrix\n",
    "from scipy import stats  # calculate zscore\n",
    "import pandas as pd  # data analysis library\n",
    "import matplotlib.pyplot as plt  # data visualization\n",
    "import matplotlib.lines as mlines  # figure legend styling\n",
    "\n",
    "# to suppress warnings from the output window\n",
    "import warnings\n",
    "warnings.filterwarnings(\"ignore\")\n",
    "\n",
    "# to render the figures inside the current notebook\n",
    "%matplotlib inline"
   ]
  },
  {
   "cell_type": "markdown",
   "metadata": {
    "ein.tags": "worksheet-0",
    "slideshow": {
     "slide_type": "-"
    }
   },
   "source": [
    "### 1.2 set folder path and organize recordings"
   ]
  },
  {
   "cell_type": "markdown",
   "metadata": {
    "ein.tags": "worksheet-0",
    "slideshow": {
     "slide_type": "-"
    }
   },
   "source": [
    "### Users can download the longitudinal dataset from [Inscopix website](https://support.inscopix.com/support/products/data-processing-software/inscopix-data-processing-v131)"
   ]
  },
  {
   "cell_type": "markdown",
   "metadata": {
    "ExecuteTime": {
     "end_time": "2020-09-01T14:38:05.859307Z",
     "start_time": "2020-09-01T14:38:05.847273Z"
    },
    "ein.tags": "worksheet-0",
    "slideshow": {
     "slide_type": "-"
    }
   },
   "source": [
    "### **USER INPUT REQUIRED (1 of 6)**"
   ]
  },
  {
   "cell_type": "code",
   "execution_count": 2,
   "metadata": {
    "ExecuteTime": {
     "end_time": "2021-04-16T14:00:10.061974Z",
     "start_time": "2021-04-16T14:00:10.047974Z"
    },
    "autoscroll": false,
    "ein.hycell": false,
    "ein.tags": "worksheet-0",
    "slideshow": {
     "slide_type": "-"
    }
   },
   "outputs": [],
   "source": [
    "###############################################################################\n",
    "#--------USERS SPECIFY AN INPUT FOLDER WHERE THEY STORE THE RECORDINGS--------#\n",
    "###############################################################################\n",
    "\n",
    "\"\"\"\n",
    "1. modify the path to match user's own dir\n",
    "2. in windows system, a copy/pasted path needs to be prefixed with r\n",
    "    or use \\\\ structure such as 'C:\\\\Path\\\\to\\\\parent\\\\folder'\n",
    "3. Path library is used to standardize path format\n",
    "    and be cross-platform compatible\n",
    "\"\"\"\n",
    "\n",
    "# set current working folder; change 'D:' to match your own folder\n",
    "Parent_folder_User_defined = Path(r'D:\\demo')\n",
    "\n",
    "# for the Inscopix demo dataset the raw recordings are stored in a subfolder\n",
    "# and so we append the folder path, which may not be necessary and so\n",
    "# should be modified to match users' own folder structure\n",
    "\n",
    "data_dir = \\\n",
    "    Parent_folder_User_defined /  \\\n",
    "    \"S1prism_AAV1_demo_with_LR\" /  \\\n",
    "    \"S1prism_AAV1_demo_v2_data\""
   ]
  },
  {
   "cell_type": "code",
   "execution_count": 3,
   "metadata": {
    "ExecuteTime": {
     "end_time": "2021-04-16T14:00:10.077974Z",
     "start_time": "2021-04-16T14:00:10.063974Z"
    },
    "autoscroll": false,
    "ein.hycell": false,
    "ein.tags": "worksheet-0",
    "slideshow": {
     "slide_type": "-"
    }
   },
   "outputs": [
    {
     "name": "stdout",
     "output_type": "stream",
     "text": [
      "The input recording folder: S1prism_AAV1_demo_v2_data\n",
      "The output folder: processed\n"
     ]
    }
   ],
   "source": [
    "# for the demo dataset, we store the processed files\n",
    "# in a child folder \"processed\"\n",
    "\n",
    "output_dir = data_dir / \"processed\"\n",
    "# create the output folder if it does not exist\n",
    "output_dir.mkdir(exist_ok=True)\n",
    "\n",
    "print('The input recording folder:', data_dir.name)\n",
    "print('The output folder:', output_dir.name)"
   ]
  },
  {
   "cell_type": "markdown",
   "metadata": {
    "ExecuteTime": {
     "end_time": "2020-09-01T14:38:05.859307Z",
     "start_time": "2020-09-01T14:38:05.847273Z"
    },
    "ein.tags": "worksheet-0",
    "slideshow": {
     "slide_type": "-"
    }
   },
   "source": [
    "### **USER INPUT REQUIRED (2 of 6)**"
   ]
  },
  {
   "cell_type": "code",
   "execution_count": 4,
   "metadata": {
    "ExecuteTime": {
     "end_time": "2021-04-16T14:00:10.093974Z",
     "start_time": "2021-04-16T14:00:10.078974Z"
    },
    "autoscroll": false,
    "ein.hycell": false,
    "ein.tags": "worksheet-0",
    "slideshow": {
     "slide_type": "-"
    }
   },
   "outputs": [],
   "source": [
    "###############################################################################\n",
    "#-------FOLLOW THE DEMO DATASET STRUCTURE TO ORGANIZE RECORDINGS--------------#\n",
    "#--SO LABEL OF EACH SERIES IS FOLLOWED BY A RECORDING LIST FROM THAT SERIES---#\n",
    "###############################################################################\n",
    "\n",
    "# each day contains a time series of four sessions in this example\n",
    "\n",
    "series_rec_names = {\n",
    "    'day_1':\n",
    "    [\n",
    "        'recording_20160613_105808',\n",
    "        'recording_20160613_110507',\n",
    "        'recording_20160613_111207',\n",
    "        'recording_20160613_111907',\n",
    "    ],\n",
    "    'day_4':\n",
    "    [\n",
    "        'recording_20160616_102500',\n",
    "        'recording_20160616_103200',\n",
    "        'recording_20160616_103900',\n",
    "        'recording_20160616_104600',\n",
    "    ]}"
   ]
  },
  {
   "cell_type": "code",
   "execution_count": 5,
   "metadata": {
    "ExecuteTime": {
     "end_time": "2021-04-16T14:00:10.109975Z",
     "start_time": "2021-04-16T14:00:10.094974Z"
    },
    "autoscroll": false,
    "ein.hycell": false,
    "ein.tags": "worksheet-0",
    "scrolled": true,
    "slideshow": {
     "slide_type": "-"
    }
   },
   "outputs": [
    {
     "name": "stdout",
     "output_type": "stream",
     "text": [
      "Label of time series: ['day_1', 'day_4']\n",
      "Number of recordings for each day: [4, 4]\n",
      "day_1 recording list: ['recording_20160613_105808', 'recording_20160613_110507', 'recording_20160613_111207', 'recording_20160613_111907'] \n",
      "\n"
     ]
    }
   ],
   "source": [
    "# store the series label, list of recordings and\n",
    "# the No. of recordings in each series\n",
    "\n",
    "day_labels = list(series_rec_names.keys())\n",
    "recordings_series = list(series_rec_names.values())\n",
    "num_rec_per_series = [len(child_list) for child_list in recordings_series]\n",
    "\n",
    "# print series label and the recording No. for each series\n",
    "print('Label of time series:', day_labels)\n",
    "print('Number of recordings for each day:', num_rec_per_series)\n",
    "\n",
    "# print the recording list from one example series\n",
    "print('{} recording list:'.format(\n",
    "    day_labels[0]), recordings_series[0], '\\n')"
   ]
  },
  {
   "cell_type": "markdown",
   "metadata": {
    "ein.tags": "worksheet-0",
    "slideshow": {
     "slide_type": "-"
    }
   },
   "source": [
    "### 1.3 define functions to merge time series or split a single list to time series"
   ]
  },
  {
   "cell_type": "code",
   "execution_count": 6,
   "metadata": {
    "ExecuteTime": {
     "end_time": "2021-04-16T14:00:10.125974Z",
     "start_time": "2021-04-16T14:00:10.111976Z"
    },
    "autoscroll": false,
    "ein.hycell": false,
    "ein.tags": "worksheet-0",
    "slideshow": {
     "slide_type": "-"
    }
   },
   "outputs": [],
   "source": [
    "def split2series(Input, length_to_split=num_rec_per_series):\n",
    "    \"\"\"\n",
    "    Convert a straight list into a nested one, a list of time series.\n",
    "    for example: [1, 2, 3, 4] --> [[1, 2], [3, 4]]\n",
    "    given an input length [2, 2]\n",
    "\n",
    "    Args:\n",
    "        Input: straight list such as [1, 2, 3, 4]\n",
    "        length_to_split: No. of elements to be distributed into nested lists\n",
    "    Return:\n",
    "        Output: Nested list such as [[1, 2], [3, 4]]\n",
    "    \"\"\"\n",
    "\n",
    "    # Using islice to redistribute the elements from the input list\n",
    "    Inputt = iter(Input)\n",
    "    Output = [list(islice(Inputt, elem))\n",
    "              for elem in length_to_split]\n",
    "    return Output\n",
    "\n",
    "\n",
    "def merge_series(Input):\n",
    "    \"\"\"\n",
    "    Flatten a nested list, a list of time series into a single list\n",
    "    for example: [[1, 2], [3, 4]] --> [1, 2, 3, 4]\n",
    "\n",
    "    Args:\n",
    "        Input: Nested list\n",
    "    Return:\n",
    "        Output: flattened list\n",
    "    \"\"\"\n",
    "\n",
    "    if any(isinstance(i, list) for i in Input):\n",
    "        Output = [recording for child_list in Input for recording in child_list]\n",
    "    else:\n",
    "        Output = Input  # skip the conversion if input list is not nested\n",
    "    return Output\n",
    "\n",
    "\n",
    "def series_suffix(suffix, dir_series, output_dir=output_dir):\n",
    "\n",
    "    \"\"\"\n",
    "    add suffix to series filename\n",
    "    1. The input dir series are merged first\n",
    "    2. The merged list is used to add suffix to filenames\n",
    "    3. The new filenames list is split to new dir series\n",
    "       if input list is nested\n",
    "\n",
    "    Args:\n",
    "        dir_series: input dir series\n",
    "                    Default: raw recording dirs\n",
    "        suffix: User input for filename suffixing\n",
    "        output_dir: the output folder to store new files\n",
    "                    Default: output dir specified from the previous step\n",
    "    Return:\n",
    "        Output: new dir series with suffixed filenames\n",
    "    \"\"\"\n",
    "\n",
    "    old_names = merge_series(dir_series)  # step 1\n",
    "    new_names = [str(Path(output_dir, Path(dir).stem \\\n",
    "        + suffix)) for dir in old_names]  # step 2\n",
    "    if any(isinstance(i, list) for i in dir_series):\n",
    "        num_rec = [len(child_list) for child_list in dir_series]\n",
    "        Output = split2series(new_names, length_to_split=num_rec)\n",
    "    else:\n",
    "        Output = new_names  # step 3 skipped\n",
    "\n",
    "    return Output\n",
    "\n",
    "def series_label_prefix(suffix, prefix=day_labels, output_dir=output_dir):\n",
    "    \"\"\"\n",
    "    join series label prefix with suffix input\n",
    "\n",
    "    Args:\n",
    "        suffix: input, filename suffix to be joined\n",
    "        prefix: series labels as prefix\n",
    "        output_dir: the output folder to store dirs with new names\n",
    "                    Default: output dir specified from the previous step\n",
    "    Return:\n",
    "        Output: new dir list with prefixed filenames\n",
    "    \"\"\"\n",
    "    return [str(Path(output_dir, name + suffix)) for name in prefix]\n",
    "\n",
    "\n",
    "# get full dir of the raw recordings\n",
    "# may need to remove -PP-PP if processing users' own recordings\n",
    "rec_dir_series = series_suffix(\n",
    "                '-PP-PP.isxd', recordings_series, output_dir=data_dir)"
   ]
  },
  {
   "cell_type": "markdown",
   "metadata": {
    "ein.tags": "worksheet-0",
    "slideshow": {
     "slide_type": "-"
    }
   },
   "source": [
    "### 1.4 get full dir for the input recordings"
   ]
  },
  {
   "cell_type": "markdown",
   "metadata": {
    "ExecuteTime": {
     "end_time": "2020-09-01T14:38:05.859307Z",
     "start_time": "2020-09-01T14:38:05.847273Z"
    },
    "ein.tags": "worksheet-0",
    "slideshow": {
     "slide_type": "-"
    }
   },
   "source": [
    "### **USER INPUT REQUIRED (3 of 6)**"
   ]
  },
  {
   "cell_type": "code",
   "execution_count": 7,
   "metadata": {
    "ExecuteTime": {
     "end_time": "2021-04-16T14:00:10.141974Z",
     "start_time": "2021-04-16T14:00:10.126975Z"
    },
    "autoscroll": false,
    "ein.hycell": false,
    "ein.tags": "worksheet-0",
    "scrolled": true,
    "slideshow": {
     "slide_type": "-"
    }
   },
   "outputs": [
    {
     "name": "stdout",
     "output_type": "stream",
     "text": [
      "The total No. of time series: 2\n"
     ]
    }
   ],
   "source": [
    "###############################################################################\n",
    "#----------FOR THE DEMO DATASET THE RECORDINGS HAVE BEEN PREPROCESSED---------#\n",
    "#----------THEREFORE THE NAMES WERE SUFFIXED WITH -PP-PP----------------------#\n",
    "#--------- USERS MAY NEED TO REMOVE -PP-PP TO MATCH THEIR OWN RECORDINGS------#\n",
    "###############################################################################\n",
    "\n",
    "# reset series_suffix function default argument\n",
    "# add suffix to raw recording names\n",
    "\n",
    "series_suffix = partial(series_suffix, dir_series=rec_dir_series)\n",
    "print('The total No. of time series:', len(rec_dir_series))\n",
    "# print(Path(rec_dir_series[0][0]).name)"
   ]
  },
  {
   "cell_type": "code",
   "execution_count": 8,
   "metadata": {
    "ExecuteTime": {
     "end_time": "2021-04-16T14:00:10.157974Z",
     "start_time": "2021-04-16T14:00:10.143975Z"
    },
    "autoscroll": false,
    "ein.hycell": false,
    "ein.tags": "worksheet-0",
    "slideshow": {
     "slide_type": "-"
    }
   },
   "outputs": [],
   "source": [
    "# update series_rec_names recording list with full dirs\n",
    "\n",
    "for day_i, key in enumerate(series_rec_names):\n",
    "    series_rec_names[key] = rec_dir_series[day_i]\n",
    "\n",
    "# save as json\n",
    "with open( output_dir / 'series_rec_names.json', 'w') as f:\n",
    "    json.dump(series_rec_names, f)"
   ]
  },
  {
   "cell_type": "markdown",
   "metadata": {
    "ein.tags": "worksheet-0",
    "slideshow": {
     "slide_type": "-"
    }
   },
   "source": [
    "### 1.5 make output file names"
   ]
  },
  {
   "cell_type": "code",
   "execution_count": 9,
   "metadata": {
    "ExecuteTime": {
     "end_time": "2021-04-16T14:00:10.173974Z",
     "start_time": "2021-04-16T14:00:10.159974Z"
    },
    "autoscroll": false,
    "ein.hycell": false,
    "ein.tags": "worksheet-0",
    "slideshow": {
     "slide_type": "-"
    }
   },
   "outputs": [],
   "source": [
    "\"\"\"\n",
    "make filenames for output files\n",
    "\n",
    "abbreviation for filename suffix:\n",
    "\n",
    "pp: preprocess\n",
    "bp: bandpass filter\n",
    "mc: motion correction\n",
    "cnmfe-cellset: cnmfe cellset\n",
    "cnmfe_event: cnmfe event set\n",
    "dff: deltaF/F0\n",
    "pca_ica: pca/ica cellset\n",
    "pca_ica_event: pca/ica event set\n",
    "\n",
    "\"\"\"\n",
    "\n",
    "# make new isxd filenames for processed files\n",
    "\n",
    "pp_files_series = series_suffix('-PP.isxd')\n",
    "bp_files_series = series_suffix('-PP-BP.isxd')\n",
    "mc_files_series = series_suffix('-PP-BP-MC.isxd')\n",
    "cnmfe_files_series = series_suffix('-PP-BP-MC-cnmfe-cellset.isxd')\n",
    "cnmfe_eventfiles_series = series_suffix('-PP-BP-MC-cnmfe_event.isxd')\n",
    "dff_files_series = series_suffix('-PP-BP-MC-dff.isxd')\n",
    "pcaica_files_series = series_suffix('-PP-BP-MC-dff-pca_ica.isxd')\n",
    "pcaica_eventfiles_series = series_suffix('-PP-BP-MC-dff-pca_ica_event.isxd')\n",
    "\n",
    "# make csv filenames to store frame by frame x y shift during motion correction\n",
    "translation_files = series_suffix(\n",
    "                    '-translations.csv', dir_series=mc_files_series)"
   ]
  },
  {
   "cell_type": "code",
   "execution_count": 10,
   "metadata": {
    "ExecuteTime": {
     "end_time": "2021-04-16T14:00:10.189974Z",
     "start_time": "2021-04-16T14:00:10.174974Z"
    },
    "autoscroll": false,
    "ein.hycell": false,
    "ein.tags": "worksheet-0",
    "slideshow": {
     "slide_type": "-"
    }
   },
   "outputs": [],
   "source": [
    "\"\"\"\n",
    "Make filenames for other output files:\n",
    "\n",
    "mean_proj_files: mean projection file from motion correction\n",
    "crop_rect_files: store movie coordinates after motion correction\n",
    "                i.e. top left width height values\n",
    "maxdff_files: maximal projection file from df/f0 movies\n",
    "cnmfe_csv: cell traces csv files from cnmfe cellset\n",
    "cnmfe_tiff: cell map tiff files, one per cell from cnmfe cellset\n",
    "pcaica_csv: cell traces csv files from pca-ica cellset\n",
    "pcaica_tiff: cell map tiff files, one per cell from pca-ica cellset\n",
    "pcaica_event_csv: cell events csv files from pca-ica event set\n",
    "pcaica_event_props_csv: cell event metrics csv files from pca-ica event set\n",
    "\n",
    "\"\"\"\n",
    "\n",
    "mean_proj_files = series_label_prefix('-mean_image.isxd')\n",
    "crop_rect_files = series_label_prefix('-crop_rect.csv')\n",
    "maxdff_files = series_label_prefix('-maxdff.isxd')\n",
    "\n",
    "cnmfe_csv = series_label_prefix('-cnmfe-cellset.csv')\n",
    "cnmfe_tiff = series_label_prefix('-cnmfe-cellset.tiff')\n",
    "pcaica_csv = series_label_prefix('-pca-ica-cellset.csv')\n",
    "pcaica_tiff = series_label_prefix('-pca-ica-cellset.tiff')\n",
    "pcaica_event_csv = series_label_prefix('-pca-ica-cellset-events.csv')\n",
    "pcaica_event_props_csv = series_label_prefix('-pca-ica-cellset-events-props.csv')"
   ]
  },
  {
   "cell_type": "markdown",
   "metadata": {
    "ein.tags": "worksheet-0",
    "slideshow": {
     "slide_type": "-"
    }
   },
   "source": [
    "## Step 2. preprocess time series recordings\n",
    "- ### temporal and spatial downsampling"
   ]
  },
  {
   "cell_type": "markdown",
   "metadata": {
    "ExecuteTime": {
     "end_time": "2020-09-01T14:38:05.859307Z",
     "start_time": "2020-09-01T14:38:05.847273Z"
    },
    "ein.tags": "worksheet-0",
    "slideshow": {
     "slide_type": "-"
    }
   },
   "source": [
    "### **USER INPUT REQUIRED (4 of 6)**"
   ]
  },
  {
   "cell_type": "code",
   "execution_count": 11,
   "metadata": {
    "ExecuteTime": {
     "end_time": "2021-04-16T14:01:31.849547Z",
     "start_time": "2021-04-16T14:00:10.190974Z"
    },
    "autoscroll": false,
    "ein.hycell": false,
    "ein.tags": "worksheet-0",
    "slideshow": {
     "slide_type": "-"
    }
   },
   "outputs": [
    {
     "name": "stdout",
     "output_type": "stream",
     "text": [
      "Preprocessing, please wait...\n",
      "\n",
      "day_1 preprocessing completed\n",
      "day_4 preprocessing completed\n"
     ]
    }
   ],
   "source": [
    "###############################################################################\n",
    "#---PLEASE USE A PROPER TEMPORAL DOWNSAMPLING FACTOR TO MATCH THE GCAMP TYPE--#\n",
    "#----4X SPATIAL DOWNSAMPLING IS RECOMMENDED FOR LONG RECORDINGS OR CNMFE------#\n",
    "#-----FOR PARAMETER TUNING, CROPPING OR TRIM MOVIE COULD SAVE TIME------------#\n",
    "###############################################################################\n",
    "\n",
    "# Adjust the two parameter below to match your own datasets.\n",
    "# The factors used below are for demo purpose to save time of processing\n",
    "# by reducing file size both temporally and spatially.\n",
    "\n",
    "tp_downsampling = 1\n",
    "sp_downsampling = 2\n",
    "\n",
    "# use for loop to preprocess time series one at a time\n",
    "# day_i: 0,1... matching day index (0, 1 in this example)\n",
    "\n",
    "print('Preprocessing, please wait...\\n')\n",
    "\n",
    "for day_i, day_label in enumerate(day_labels):\n",
    "\n",
    "    # Preprocess the recordings by spatially downsampling by a factor of 2\n",
    "    # and temporally downsampling by a factor of 1 (no downsampling).\n",
    "    # In the example data set, some downsampling has already been performed\n",
    "    # but we do it again for demonstration purposes\n",
    "    # and to speed everything up here.\n",
    "\n",
    "    if not os.path.exists(pp_files_series[day_i][0]):\n",
    "        # skip the series if its first recording exists\n",
    "        isx.preprocess(\n",
    "            input_movie_files=rec_dir_series[day_i],  # one series per loop\n",
    "            output_movie_files=pp_files_series[day_i],  # one series per loop\n",
    "            temporal_downsample_factor=tp_downsampling,\n",
    "            spatial_downsample_factor=sp_downsampling,\n",
    "            crop_rect=None,\n",
    "            fix_defective_pixels=True,\n",
    "            trim_early_frames=True)\n",
    "        print('{} preprocessing completed'.format(day_label))\n",
    "    else:\n",
    "        print(Path(pp_files_series[day_i][0]).name\n",
    "              + \" already exists, series skipped\")"
   ]
  },
  {
   "cell_type": "markdown",
   "metadata": {
    "ein.tags": "worksheet-0",
    "slideshow": {
     "slide_type": "-"
    }
   },
   "source": [
    "## Step 3. apply bandpass filter"
   ]
  },
  {
   "cell_type": "code",
   "execution_count": 12,
   "metadata": {
    "ExecuteTime": {
     "end_time": "2021-04-16T14:02:12.088077Z",
     "start_time": "2021-04-16T14:01:31.850547Z"
    },
    "autoscroll": false,
    "ein.hycell": false,
    "ein.tags": "worksheet-0",
    "slideshow": {
     "slide_type": "-"
    }
   },
   "outputs": [
    {
     "name": "stdout",
     "output_type": "stream",
     "text": [
      "Applying bandpass filter, please wait...\n",
      "\n",
      "day_1 bandpass filtering completed\n",
      "day_4 bandpass filtering completed\n"
     ]
    }
   ],
   "source": [
    "# use for loop to apply bandpass filter to time series one at a time\n",
    "# Perform spatial bandpass filtering with default values.\n",
    "\n",
    "print('Applying bandpass filter, please wait...\\n')\n",
    "\n",
    "for day_i, day_label in enumerate(day_labels):\n",
    "\n",
    "    if not os.path.exists(bp_files_series[day_i][0]):\n",
    "        isx.spatial_filter(\n",
    "            input_movie_files=pp_files_series[day_i],\n",
    "            output_movie_files=bp_files_series[day_i],\n",
    "            low_cutoff=0.005,\n",
    "            high_cutoff=0.5,\n",
    "            retain_mean=False,\n",
    "            # leave subtract_global_minimum setting as true\n",
    "            # for correct dff display\n",
    "            subtract_global_minimum=True)\n",
    "        print('{} bandpass filtering completed'.format(day_label))\n",
    "    else:\n",
    "        print(Path(bp_files_series[day_i][0]).name\n",
    "              + \" already exists, series skipped\")"
   ]
  },
  {
   "cell_type": "markdown",
   "metadata": {
    "ein.tags": "worksheet-0",
    "slideshow": {
     "slide_type": "-"
    }
   },
   "source": [
    "## Step 4. apply motion correction"
   ]
  },
  {
   "cell_type": "markdown",
   "metadata": {
    "ExecuteTime": {
     "end_time": "2020-09-03T19:46:53.520265Z",
     "start_time": "2020-09-03T19:46:53.518265Z"
    },
    "ein.tags": "worksheet-0",
    "slideshow": {
     "slide_type": "-"
    }
   },
   "source": [
    "### Step 4.1 get mean frame from temporal projection"
   ]
  },
  {
   "cell_type": "code",
   "execution_count": 13,
   "metadata": {
    "ExecuteTime": {
     "end_time": "2021-04-16T14:02:16.392044Z",
     "start_time": "2021-04-16T14:02:12.089046Z"
    },
    "autoscroll": false,
    "ein.hycell": false,
    "ein.tags": "worksheet-0",
    "slideshow": {
     "slide_type": "-"
    }
   },
   "outputs": [
    {
     "name": "stdout",
     "output_type": "stream",
     "text": [
      "\n",
      "day_1 temporal projection completed.\n",
      "A new file has been generated and will be used\n",
      "as a reference frame for motion correction\n",
      "\n",
      "\n",
      "day_4 temporal projection completed.\n",
      "A new file has been generated and will be used\n",
      "as a reference frame for motion correction\n",
      "\n"
     ]
    }
   ],
   "source": [
    "# use the mean frame as a reference to apply motion correction.\n",
    "\n",
    "for day_i, (day_label, mean_proj_file) \\\n",
    "        in enumerate(zip(day_labels, mean_proj_files)):\n",
    "\n",
    "    if not os.path.exists(mean_proj_file):\n",
    "\n",
    "        isx.project_movie(\n",
    "            input_movie_files=bp_files_series[day_i],\n",
    "            output_image_file=mean_proj_file,\n",
    "            stat_type='mean')  # types: 'mean', 'min', or 'max'\n",
    "        message = \"\"\"\n",
    "            {} temporal projection completed.\n",
    "            A new file has been generated and will be used\n",
    "            as a reference frame for motion correction\n",
    "            \"\"\".format(day_label)\n",
    "        print(textwrap.dedent(message))\n",
    "\n",
    "    else:\n",
    "        print(Path(mean_proj_file).name\n",
    "              + \" already exists, projection process skipped\")"
   ]
  },
  {
   "cell_type": "markdown",
   "metadata": {
    "ExecuteTime": {
     "end_time": "2020-09-03T19:46:53.520265Z",
     "start_time": "2020-09-03T19:46:53.518265Z"
    },
    "ein.tags": "worksheet-0",
    "slideshow": {
     "slide_type": "-"
    }
   },
   "source": [
    "### Step 4.2 apply motion correction"
   ]
  },
  {
   "cell_type": "code",
   "execution_count": 14,
   "metadata": {
    "ExecuteTime": {
     "end_time": "2021-04-16T14:03:50.437731Z",
     "start_time": "2021-04-16T14:02:16.393045Z"
    },
    "autoscroll": false,
    "ein.hycell": false,
    "ein.tags": "worksheet-0",
    "slideshow": {
     "slide_type": "-"
    }
   },
   "outputs": [
    {
     "name": "stdout",
     "output_type": "stream",
     "text": [
      "Applying motion correction. Please wait...\n",
      "\n",
      "day_1 motion correction completed\n",
      "day_4 motion correction completed\n"
     ]
    }
   ],
   "source": [
    "# use for loop to apply motion correction one series at a time\n",
    "\n",
    "print('Applying motion correction. Please wait...\\n')\n",
    "\n",
    "for day_i, (day_label, mean_proj_file) \\\n",
    "        in enumerate(zip(day_labels, mean_proj_files)):\n",
    "\n",
    "    # apply motion correction\n",
    "    if not os.path.exists(mc_files_series[day_i][0]):\n",
    "        isx.motion_correct(\n",
    "            input_movie_files=bp_files_series[day_i],\n",
    "            output_movie_files=mc_files_series[day_i],\n",
    "            max_translation=20,\n",
    "            low_bandpass_cutoff=None,\n",
    "            high_bandpass_cutoff=None,\n",
    "            roi=None,\n",
    "            # use movie and frame index to set a fixed frame as reference\n",
    "            # turned off if set to 0\n",
    "            reference_segment_index=0,\n",
    "            reference_frame_index=0,\n",
    "            # use the mean projection file generated in the previous step\n",
    "            # as a reference frame for motion correction\n",
    "            reference_file_name=mean_proj_file,\n",
    "            global_registration_weight=1.0,\n",
    "            output_translation_files=translation_files[day_i],\n",
    "            output_crop_rect_file=crop_rect_files[day_i])\n",
    "        print('{} motion correction completed'.format(day_label))\n",
    "    else:\n",
    "        print(Path(mc_files_series[day_i][0]).name\n",
    "              + \" already exists, series skipped\")"
   ]
  },
  {
   "cell_type": "markdown",
   "metadata": {
    "ein.tags": "worksheet-0",
    "slideshow": {
     "slide_type": "-"
    }
   },
   "source": [
    "## **Step 5: Cell Detection Method 1: CNMFe**"
   ]
  },
  {
   "cell_type": "markdown",
   "metadata": {
    "ein.tags": "worksheet-0",
    "slideshow": {
     "slide_type": "-"
    }
   },
   "source": [
    "### Step 5.1 apply CNMFe algorithm to detect cells"
   ]
  },
  {
   "cell_type": "markdown",
   "metadata": {
    "ExecuteTime": {
     "end_time": "2020-09-01T14:38:05.859307Z",
     "start_time": "2020-09-01T14:38:05.847273Z"
    },
    "ein.tags": "worksheet-0",
    "slideshow": {
     "slide_type": "-"
    }
   },
   "source": [
    "### **USER INPUT REQUIRED (5 of 6)**"
   ]
  },
  {
   "cell_type": "code",
   "execution_count": 15,
   "metadata": {
    "ExecuteTime": {
     "end_time": "2021-04-16T14:26:02.047423Z",
     "start_time": "2021-04-16T14:03:50.438732Z"
    },
    "autoscroll": false,
    "ein.hycell": false,
    "ein.tags": "worksheet-0",
    "scrolled": true,
    "slideshow": {
     "slide_type": "-"
    }
   },
   "outputs": [
    {
     "name": "stdout",
     "output_type": "stream",
     "text": [
      "Applying CNMFe algorithm to detect cells, please wait...\n",
      "\n",
      "\n",
      "day_1 CNMFe cell detection completed. A few temporary files\n",
      "have been generated in the cnmfe_tmp subfolder\n",
      "\n",
      "\n",
      "day_4 CNMFe cell detection completed. A few temporary files\n",
      "have been generated in the cnmfe_tmp subfolder\n",
      "\n",
      "Wall time: 22min 11s\n"
     ]
    }
   ],
   "source": [
    "%%time\n",
    "\n",
    "###############################################################################\n",
    "#---THE CNMFE ALGORITHM APPLIES TO THE CONCATENATED MOVIE FROM THE SERIES-----#\n",
    "#--------EVERY RECORDING IN THIS SERIES WILL HAVE THE SAME CELLMAPS-----------#\n",
    "#---------EVEN THOUGHT THE OUTPUT IS A CNMFE CELLSET SERIES-------------------#\n",
    "###############################################################################\n",
    "#----------PLEASE REFER TO IDPS MANUAL FOR PARAMETER SETTING TIPS-------------#\n",
    "#----------ADJUST CELL_DIAMETER, MIN_PNR AND MIN_CORR VALUES AS NEEDED--------#\n",
    "###############################################################################\n",
    "\n",
    "print('Applying CNMFe algorithm to detect cells, please wait...\\n')\n",
    "\n",
    "# make cnmfe subfolder to store temporal files including concatenated TIFFs\n",
    "export_path = output_dir / \"cnmfe_tmp\"\n",
    "export_path.mkdir(exist_ok=True)\n",
    "\n",
    "# use motion corrected movie series as input and do not use df/f0 movie\n",
    "# since the background info will be used for noise estimation\n",
    "\n",
    "for day_i, day_label in enumerate(day_labels):\n",
    "\n",
    "    if not os.path.exists(cnmfe_files_series[day_i][0]):\n",
    "        isx.run_cnmfe(\n",
    "            input_movie_files=mc_files_series[day_i],\n",
    "            output_cell_set_files=cnmfe_files_series[day_i],\n",
    "            output_dir=str(export_path),\n",
    "            cell_diameter=15,\n",
    "            min_corr=0.8,\n",
    "            min_pnr=20,\n",
    "            bg_spatial_subsampling=2,\n",
    "            ring_size_factor=1.4,\n",
    "            gaussian_kernel_size=0,\n",
    "            closing_kernel_size=0,\n",
    "            merge_threshold=0.7,\n",
    "            processing_mode='parallel_patches',\n",
    "            num_threads=4,\n",
    "            patch_size=80,\n",
    "            patch_overlap=20,\n",
    "            output_unit_type='df_over_noise')\n",
    "        message = \"\"\"\n",
    "            {} CNMFe cell detection completed. A few temporary files\n",
    "            have been generated in the cnmfe_tmp subfolder\\n\"\"\".format(day_label)\n",
    "        print(textwrap.dedent(message))\n",
    "    else:\n",
    "        print(Path(cnmfe_files_series[day_i][0]).name\n",
    "              + \" already exists, series skipped\")"
   ]
  },
  {
   "cell_type": "markdown",
   "metadata": {
    "ein.tags": "worksheet-0",
    "slideshow": {
     "slide_type": "-"
    }
   },
   "source": [
    "### Step 5.2 define a function to move files"
   ]
  },
  {
   "cell_type": "code",
   "execution_count": 16,
   "metadata": {
    "ExecuteTime": {
     "end_time": "2021-04-16T14:26:02.063426Z",
     "start_time": "2021-04-16T14:26:02.048463Z"
    },
    "autoscroll": false,
    "ein.hycell": false,
    "ein.tags": "worksheet-0",
    "slideshow": {
     "slide_type": "-"
    }
   },
   "outputs": [],
   "source": [
    "def move_files(source, destination, type='.tiff'):\n",
    "    \"\"\"\n",
    "    move files from source to destination, filtered by file type\n",
    "\n",
    "    Parameters:\n",
    "        source: path for source folder\n",
    "        destination: path for destination folder\n",
    "        type: file extension, by default only move tiff files\n",
    "\n",
    "    Returns:\n",
    "        None\n",
    "\n",
    "    \"\"\"\n",
    "    if not os.path.exists(destination):\n",
    "        os.mkdir(destination)  # make new subfolder\n",
    "        # get file list from the source folder\n",
    "        filelist = os.listdir(source)\n",
    "        for file in filelist:\n",
    "            if file.endswith(type):  # filter by file type\n",
    "                shutil.move(source / file, destination / file)\n",
    "    else:\n",
    "        print(\"Tiff folder already exists, no files were moved\\n\")"
   ]
  },
  {
   "cell_type": "markdown",
   "metadata": {
    "ein.tags": "worksheet-0",
    "slideshow": {
     "slide_type": "-"
    }
   },
   "source": [
    "### Step 5.3 export cnmfe cell set traces and cellmaps"
   ]
  },
  {
   "cell_type": "code",
   "execution_count": 17,
   "metadata": {
    "ExecuteTime": {
     "end_time": "2021-04-16T14:26:15.599569Z",
     "start_time": "2021-04-16T14:26:02.064426Z"
    },
    "autoscroll": false,
    "ein.hycell": false,
    "ein.tags": "worksheet-0",
    "slideshow": {
     "slide_type": "-"
    }
   },
   "outputs": [
    {
     "name": "stdout",
     "output_type": "stream",
     "text": [
      "Export completed. Tiff files were stored in the tiff subfolder\n",
      "Export completed. Tiff files were stored in the tiff subfolder\n"
     ]
    }
   ],
   "source": [
    "# export csv file for all cell traces\n",
    "# export multiple cell maps, one tiff image for each cell\n",
    "\n",
    "for day_i, day_label in enumerate(day_labels):\n",
    "    if not os.path.exists(cnmfe_csv[day_i]):\n",
    "        isx.export_cell_set_to_csv_tiff(\n",
    "            input_cell_set_files=cnmfe_files_series[day_i],\n",
    "            output_csv_file=cnmfe_csv[day_i],\n",
    "            output_tiff_file=cnmfe_tiff[day_i],\n",
    "            time_ref='start',\n",
    "            output_props_file='')\n",
    "        print(\"Export completed. Tiff files were stored in the tiff subfolder\")\n",
    "    else:\n",
    "        print(Path(cnmfe_csv[day_i]).name\n",
    "              + \" already exists, exporting process skipped\")\n",
    "\n",
    "# move tiff files to subfolder\n",
    "move_files(output_dir, output_dir / \"cnmfe_tiff\")"
   ]
  },
  {
   "cell_type": "markdown",
   "metadata": {
    "ein.tags": "worksheet-0",
    "slideshow": {
     "slide_type": "-"
    }
   },
   "source": [
    "### Step 5.4 detect events using s.d threshold and decay time"
   ]
  },
  {
   "cell_type": "code",
   "execution_count": 18,
   "metadata": {
    "ExecuteTime": {
     "end_time": "2021-04-16T14:26:16.566979Z",
     "start_time": "2021-04-16T14:26:15.600570Z"
    },
    "autoscroll": false,
    "ein.hycell": false,
    "ein.tags": "worksheet-0",
    "slideshow": {
     "slide_type": "-"
    }
   },
   "outputs": [
    {
     "name": "stdout",
     "output_type": "stream",
     "text": [
      "Event detection completed for day_1\n",
      "Event detection completed for day_4\n"
     ]
    }
   ],
   "source": [
    "# Run event detection on the CNMFe cell sets.\n",
    "\n",
    "for day_i, day_label in enumerate(day_labels):\n",
    "\n",
    "    if not os.path.exists(cnmfe_eventfiles_series[day_i][0]):\n",
    "        isx.event_detection(\n",
    "            input_cell_set_files=cnmfe_files_series[day_i],\n",
    "            output_event_set_files=cnmfe_eventfiles_series[day_i],\n",
    "            threshold=5,  # sigma threshold\n",
    "            tau=0.2,  # default is 200ms for Gcamp6f\n",
    "            event_time_ref='beginning',  # export other timing separately\n",
    "            ignore_negative_transients=True,\n",
    "            accepted_cells_only=False)\n",
    "        print('Event detection completed for {}'.format(day_label))\n",
    "    else:\n",
    "        print(Path(cnmfe_eventfiles_series[day_i][0]).name\n",
    "              + \" already exists, process skipped\")"
   ]
  },
  {
   "cell_type": "markdown",
   "metadata": {
    "ein.tags": "worksheet-0",
    "slideshow": {
     "slide_type": "-"
    }
   },
   "source": [
    "### Step 5.5 automatically classify cell statuses as accepted or rejected"
   ]
  },
  {
   "cell_type": "code",
   "execution_count": 19,
   "metadata": {
    "ExecuteTime": {
     "end_time": "2021-04-16T14:26:26.517010Z",
     "start_time": "2021-04-16T14:26:16.567980Z"
    },
    "autoscroll": false,
    "ein.hycell": false,
    "ein.tags": "worksheet-0",
    "slideshow": {
     "slide_type": "-"
    }
   },
   "outputs": [
    {
     "name": "stdout",
     "output_type": "stream",
     "text": [
      "Applying auto classification. Please wait...\n",
      "\n",
      "Auto classification completed. The cnmfe cellset has been updated.\n"
     ]
    }
   ],
   "source": [
    "print('Applying auto classification. '+\n",
    "      'Please wait...\\n')\n",
    "\n",
    "# make name for event filter\n",
    "events_filters = [('SNR', '>', 3), ('Event Rate', '>', 0), ('Cell Size', '>', 0)]\n",
    "\n",
    "for day_i, day_label in enumerate(day_labels):\n",
    "    isx.auto_accept_reject(input_cell_set_files=cnmfe_files_series[day_i],\n",
    "                           input_event_set_files=cnmfe_eventfiles_series[day_i],\n",
    "                           filters=events_filters)\n",
    "print('Auto classification completed. The cnmfe cellset has been updated.')"
   ]
  },
  {
   "cell_type": "markdown",
   "metadata": {
    "ein.tags": "worksheet-0",
    "slideshow": {
     "slide_type": "-"
    }
   },
   "source": [
    "## **Alt Step 5: Cell Detection Method 2: PCA/ICA**"
   ]
  },
  {
   "cell_type": "markdown",
   "metadata": {
    "ein.tags": "worksheet-0",
    "slideshow": {
     "slide_type": "-"
    }
   },
   "source": [
    "### Alt Step 5.1 calculate deltaF/F0 from motion corrected movies"
   ]
  },
  {
   "cell_type": "code",
   "execution_count": 20,
   "metadata": {
    "ExecuteTime": {
     "end_time": "2021-04-16T14:26:56.046052Z",
     "start_time": "2021-04-16T14:26:26.517982Z"
    },
    "autoscroll": false,
    "ein.hycell": false,
    "ein.tags": "worksheet-0",
    "slideshow": {
     "slide_type": "-"
    }
   },
   "outputs": [
    {
     "name": "stdout",
     "output_type": "stream",
     "text": [
      "Calculating deltaf/f0, please wait...\n",
      "\n",
      "A new df/f movie has been generated for day_1\n",
      "A new df/f movie has been generated for day_4\n"
     ]
    }
   ],
   "source": [
    "# use for loop to calculate deltaF/F0\n",
    "print('Calculating deltaf/f0, please wait...\\n')\n",
    "\n",
    "for day_i, day_label in enumerate(day_labels):\n",
    "    if not os.path.exists(dff_files_series[day_i][0]):\n",
    "        isx.dff(input_movie_files=mc_files_series[day_i],\n",
    "                output_movie_files=dff_files_series[day_i],\n",
    "                f0_type='mean')\n",
    "        print('A new df/f movie has been generated for',\n",
    "              day_label)\n",
    "    else:\n",
    "        print(Path(dff_files_series[day_i][0]).name +\n",
    "              \" already exists, process skipped\")"
   ]
  },
  {
   "cell_type": "markdown",
   "metadata": {
    "ein.tags": "worksheet-0",
    "slideshow": {
     "slide_type": "-"
    }
   },
   "source": [
    "### Alt Step 5.2 apply maximal projection for each time series"
   ]
  },
  {
   "cell_type": "code",
   "execution_count": 21,
   "metadata": {
    "ExecuteTime": {
     "end_time": "2021-04-16T14:27:03.916237Z",
     "start_time": "2021-04-16T14:26:56.047053Z"
    },
    "autoscroll": false,
    "ein.hycell": false,
    "ein.tags": "worksheet-0",
    "slideshow": {
     "slide_type": "-"
    }
   },
   "outputs": [
    {
     "name": "stdout",
     "output_type": "stream",
     "text": [
      "Projecting movies, please wait...\n",
      "\n",
      "Maximal projection from day_1 dff time series completed\n",
      "Maximal projection from day_4 dff time series completed\n"
     ]
    }
   ],
   "source": [
    "print('Projecting movies, please wait...\\n')\n",
    "\n",
    "# use for loop to project movies\n",
    "for day_i, day_label in enumerate(day_labels):\n",
    "    if not os.path.exists(maxdff_files[day_i]):  # skip if file exists\n",
    "        isx.project_movie(\n",
    "            input_movie_files=dff_files_series[day_i],\n",
    "            output_image_file=maxdff_files[day_i],\n",
    "            stat_type='max')  # types: 'mean', 'min', or 'max'\n",
    "        print('Maximal projection from {} dff time series completed'\n",
    "              .format(day_label))\n",
    "    else:\n",
    "        print(Path(maxdff_files[day_i]).name\n",
    "              + \" already exists, process skipped\")"
   ]
  },
  {
   "cell_type": "markdown",
   "metadata": {
    "ein.tags": "worksheet-0",
    "slideshow": {
     "slide_type": "-"
    }
   },
   "source": [
    "### Alt Step 5.3 display the maximal projection image"
   ]
  },
  {
   "cell_type": "code",
   "execution_count": 22,
   "metadata": {
    "ExecuteTime": {
     "end_time": "2021-04-16T14:27:04.140312Z",
     "start_time": "2021-04-16T14:27:03.917236Z"
    },
    "autoscroll": false,
    "ein.hycell": false,
    "ein.tags": "worksheet-0",
    "slideshow": {
     "slide_type": "-"
    }
   },
   "outputs": [
    {
     "data": {
      "image/png": "[encoded data removed]",
      "text/plain": [
       "<Figure size 864x504 with 2 Axes>"
      ]
     },
     "metadata": {},
     "output_type": "display_data"
    }
   ],
   "source": [
    "# set subplots, total # = rows * cols\n",
    "cols = min(2, len(day_labels))\n",
    "rows = int(len(day_labels)/cols)\n",
    "axes = []\n",
    "fig = plt.figure(figsize=(12, 7))\n",
    "fig.suptitle('showing maximal projection from each time series', fontsize=20)\n",
    "\n",
    "# display max projection of dff movie\n",
    "\n",
    "for day_i in range(len(day_labels)):\n",
    "    maxdff = isx.Image.read(maxdff_files[day_i]).get_data()\n",
    "    axes.append(fig.add_subplot(rows, cols, day_i+1))\n",
    "    subplot_title = (day_labels[day_i])\n",
    "    axes[-1].set_title(subplot_title, fontsize=25)\n",
    "    plt.imshow(maxdff, 'gray')\n",
    "    plt.xticks([])\n",
    "    plt.yticks([])\n",
    "fig.tight_layout()\n",
    "plt.show()"
   ]
  },
  {
   "cell_type": "markdown",
   "metadata": {
    "ExecuteTime": {
     "end_time": "2020-09-01T14:38:05.859307Z",
     "start_time": "2020-09-01T14:38:05.847273Z"
    },
    "ein.tags": "worksheet-0",
    "slideshow": {
     "slide_type": "-"
    }
   },
   "source": [
    "### **USER INPUT REQUIRED (6 of 6)**"
   ]
  },
  {
   "cell_type": "markdown",
   "metadata": {
    "ein.tags": "worksheet-0",
    "slideshow": {
     "slide_type": "-"
    }
   },
   "source": [
    "### Alt Step 5.4 apply PCA/ICA algorithm to detect cells"
   ]
  },
  {
   "cell_type": "code",
   "execution_count": 23,
   "metadata": {
    "ExecuteTime": {
     "end_time": "2021-04-16T14:33:38.149840Z",
     "start_time": "2021-04-16T14:27:04.143280Z"
    },
    "autoscroll": false,
    "ein.hycell": false,
    "ein.tags": "worksheet-0",
    "slideshow": {
     "slide_type": "-"
    }
   },
   "outputs": [
    {
     "name": "stdout",
     "output_type": "stream",
     "text": [
      "Applying PCA-ICA algorithm to segment cells.\n",
      "This could take many minutes.\n",
      "Please wait...\n",
      "\n",
      "The number of estimated ICs for day_1 is: 192\n",
      "PCA-ICA analysis completed.A new series of files has been generated for day_1.            \n",
      "The number of estimated ICs for day_4 is: 214\n",
      "PCA-ICA analysis completed.A new series of files has been generated for day_4.            \n",
      "Wall time: 6min 33s\n"
     ]
    }
   ],
   "source": [
    "%%time\n",
    "\n",
    "###############################################################################\n",
    "#--ADJUST NUM_ICS_EST TO MATCH WHAT IS SEEN FROM THE MAXIMAL PROJECTION IMAGE-#\n",
    "#--IDPS 1.6 PROVIDES ISX.ESTIMATE_NUM_ICS TO HELP ESTIMATE THE NO. OF CELLS---#\n",
    "#---INCREASE THE BLOCK_SIZE TO SPEED UP PROCESS IF SYSTEM HAS LOTS OF MEMORY--#\n",
    "###############################################################################\n",
    "\n",
    "# Run PCA-ICA on the DF/F movies.\n",
    "# IDPS 1.6 supports auto estimation of the number of IC\n",
    "# based on average cell size in pixels.\n",
    "\n",
    "# The number of IC can also be specified manually\n",
    "# to match the cell number shown from the dff maximal projection frame\n",
    "\n",
    "print(\"\"\"Applying PCA-ICA algorithm to segment cells.\n",
    "This could take many minutes.\n",
    "Please wait...\\n\"\"\")\n",
    "\n",
    "# apply PCA-ICA\n",
    "for day_i, day_label in enumerate(day_labels):\n",
    "\n",
    "    if not os.path.exists(pcaica_files_series[day_i][0]):\n",
    "\n",
    "        # auto estimation of number of ICs\n",
    "\n",
    "        num_ics_est = isx.estimate_num_ics(\n",
    "                          maxdff_files[day_i],\n",
    "                          average_diameter=10,\n",
    "                          min_diameter=None,\n",
    "                          max_diameter=None,\n",
    "                          min_inter_dist=0)\n",
    "\n",
    "        # uncomment the line below if manual estimation is preferred.\n",
    "        # num_ics_est = 200\n",
    "\n",
    "        print('The number of estimated ICs for {} is: '.format(day_label) + str(num_ics_est))\n",
    "\n",
    "        isx.pca_ica(\n",
    "            input_movie_files=dff_files_series[day_i],\n",
    "            output_cell_set_files=pcaica_files_series[day_i],\n",
    "            num_pcs=int(num_ics_est*0.9),\n",
    "            num_ics=num_ics_est,\n",
    "            unmix_type='spatial',\n",
    "            ica_temporal_weight=0,\n",
    "            max_iterations=100,\n",
    "            convergence_threshold=1e-05,\n",
    "            block_size=3000)  # use 1000 for slow computers\n",
    "        print(\"PCA-ICA analysis completed.\"\n",
    "              + \"A new series of files has been generated for {}.\\\n",
    "            \".format(day_label))\n",
    "    else:\n",
    "        print(Path(pcaica_files_series[day_i][0]).name\n",
    "              + \" already exists, process skipped\")"
   ]
  },
  {
   "cell_type": "markdown",
   "metadata": {
    "ein.tags": "worksheet-0",
    "slideshow": {
     "slide_type": "-"
    }
   },
   "source": [
    "### Alt Step 5.5 detect events"
   ]
  },
  {
   "cell_type": "code",
   "execution_count": 24,
   "metadata": {
    "ExecuteTime": {
     "end_time": "2021-04-16T14:33:38.562840Z",
     "start_time": "2021-04-16T14:33:38.151841Z"
    },
    "autoscroll": false,
    "ein.hycell": false,
    "ein.tags": "worksheet-0",
    "slideshow": {
     "slide_type": "-"
    }
   },
   "outputs": [
    {
     "name": "stdout",
     "output_type": "stream",
     "text": [
      "Event detection completed for day_1\n",
      "Event detection completed for day_4\n"
     ]
    }
   ],
   "source": [
    "# Run event detection on the PCA-ICA cell sets.\n",
    "\n",
    "for day_i, day_label in enumerate(day_labels):\n",
    "\n",
    "    if not os.path.exists(pcaica_eventfiles_series[day_i][0]):\n",
    "        isx.event_detection(\n",
    "            input_cell_set_files=pcaica_files_series[day_i],\n",
    "            output_event_set_files=pcaica_eventfiles_series[day_i],\n",
    "            threshold=5,  # sigma threshold\n",
    "            tau=0.2,  # default is 200ms for Gcamp6f\n",
    "            event_time_ref='beginning',  # export other timing separately\n",
    "            ignore_negative_transients=True,\n",
    "            accepted_cells_only=False)\n",
    "        print('Event detection completed for {}'.format(day_label))\n",
    "    else:\n",
    "        print(Path(pcaica_eventfiles_series[day_i][0]).name\n",
    "              + \" already exists, process skipped\")"
   ]
  },
  {
   "cell_type": "markdown",
   "metadata": {
    "ein.tags": "worksheet-0",
    "slideshow": {
     "slide_type": "-"
    }
   },
   "source": [
    "\n",
    "### Alt Step 5.6 export events"
   ]
  },
  {
   "cell_type": "code",
   "execution_count": 25,
   "metadata": {
    "ExecuteTime": {
     "end_time": "2021-04-16T14:33:43.195221Z",
     "start_time": "2021-04-16T14:33:38.563841Z"
    },
    "autoscroll": false,
    "ein.hycell": false,
    "ein.tags": "worksheet-0",
    "slideshow": {
     "slide_type": "-"
    }
   },
   "outputs": [
    {
     "name": "stdout",
     "output_type": "stream",
     "text": [
      "Exporting calcium events completed.\n",
      "Exporting calcium events completed.\n"
     ]
    }
   ],
   "source": [
    "for day_i, day_label in enumerate(day_labels):\n",
    "\n",
    "    if not os.path.exists(pcaica_event_csv[day_i]):\n",
    "        isx.export_event_set_to_csv(\n",
    "            input_event_set_files=pcaica_eventfiles_series[day_i],\n",
    "            output_csv_file=pcaica_event_csv[day_i],\n",
    "            time_ref='start',\n",
    "            output_props_file=pcaica_event_props_csv[day_i])\n",
    "        print('Exporting calcium events completed.'.format(day_label))\n",
    "    else:\n",
    "        print(Path(pcaica_event_csv[day_i]).name\n",
    "              + \" already exists, process skipped\")"
   ]
  },
  {
   "cell_type": "markdown",
   "metadata": {
    "ein.tags": "worksheet-0",
    "slideshow": {
     "slide_type": "-"
    }
   },
   "source": [
    "\n",
    "### Alt Step 5.7 auto classify cells into accepted/rejected groups"
   ]
  },
  {
   "cell_type": "code",
   "execution_count": 26,
   "metadata": {
    "ExecuteTime": {
     "end_time": "2021-04-16T14:33:45.664224Z",
     "start_time": "2021-04-16T14:33:43.196221Z"
    },
    "autoscroll": false,
    "ein.hycell": false,
    "ein.tags": "worksheet-0",
    "scrolled": true,
    "slideshow": {
     "slide_type": "-"
    }
   },
   "outputs": [
    {
     "name": "stdout",
     "output_type": "stream",
     "text": [
      "Applying auto accept/reject filter based on SNR, event rate and single component number\n",
      "\n",
      "Auto classification completed for day_1. The pca-ica cellset has been updated.\n",
      "Auto classification completed for day_4. The pca-ica cellset has been updated.\n"
     ]
    }
   ],
   "source": [
    "print('Applying auto accept/reject filter based on SNR, event rate \\\n",
    "and single component number\\n')\n",
    "\n",
    "events_filters = [('SNR', '>', 3), ('Event Rate', '>', 0), ('# Comps', '=', 1)]\n",
    "\n",
    "for day_i, day_label in enumerate(day_labels):\n",
    "\n",
    "    isx.auto_accept_reject(\n",
    "        input_cell_set_files=pcaica_files_series[day_i],\n",
    "        input_event_set_files=pcaica_eventfiles_series[day_i],\n",
    "        filters=events_filters)\n",
    "\n",
    "    print(\"Auto classification completed for {}. \".format(day_label)\n",
    "          + \"The pca-ica cellset has been updated.\")"
   ]
  },
  {
   "cell_type": "markdown",
   "metadata": {
    "ein.tags": "worksheet-0",
    "slideshow": {
     "slide_type": "-"
    }
   },
   "source": [
    "\n",
    "### Alt Step 5.8 export PCA/ICA cellset traces and cellmaps"
   ]
  },
  {
   "cell_type": "code",
   "execution_count": 27,
   "metadata": {
    "ExecuteTime": {
     "end_time": "2021-04-16T14:33:50.753212Z",
     "start_time": "2021-04-16T14:33:45.666223Z"
    },
    "autoscroll": false,
    "ein.hycell": false,
    "ein.tags": "worksheet-0",
    "slideshow": {
     "slide_type": "-"
    }
   },
   "outputs": [
    {
     "name": "stdout",
     "output_type": "stream",
     "text": [
      "Export completed. Tiff files were stored in the tiff subfolder\n",
      "Export completed. Tiff files were stored in the tiff subfolder\n"
     ]
    }
   ],
   "source": [
    "for day_i, _ in enumerate(cnmfe_eventfiles_series):\n",
    "\n",
    "    if not os.path.exists(pcaica_csv[day_i]):\n",
    "        isx.export_cell_set_to_csv_tiff(\n",
    "            input_cell_set_files=pcaica_files_series[day_i],\n",
    "            output_csv_file=pcaica_csv[day_i],\n",
    "            output_tiff_file=pcaica_tiff[day_i],\n",
    "            time_ref='start',\n",
    "            output_props_file='')\n",
    "        print(\"Export completed. Tiff files were stored in the tiff subfolder\")\n",
    "    else:\n",
    "        print(Path(pcaica_csv[day_i]).name\n",
    "              + \" already exists, process skipped\")\n",
    "\n",
    "move_files(output_dir, output_dir / \"pcaica_tiff\")"
   ]
  },
  {
   "cell_type": "code",
   "execution_count": null,
   "metadata": {
    "autoscroll": false,
    "ein.hycell": false,
    "ein.tags": "worksheet-0",
    "slideshow": {
     "slide_type": "-"
    }
   },
   "outputs": [],
   "source": []
  }
 ],
 "metadata": {
  "kernelspec": {
   "display_name": "Python 3.6.13 ('isx')",
   "language": "python",
   "name": "python3"
  },
  "language_info": {
   "codemirror_mode": {
    "name": "ipython",
    "version": 3
   },
   "file_extension": ".py",
   "mimetype": "text/x-python",
   "name": "python",
   "nbconvert_exporter": "python",
   "pygments_lexer": "ipython3",
   "version": "3.6.13"
  },
  "name": "time_series.ipynb",
  "toc": {
   "base_numbering": 1,
   "nav_menu": {
    "height": "286.4px",
    "width": "252px"
   },
   "number_sections": false,
   "sideBar": true,
   "skip_h1_title": false,
   "title_cell": "Table of Contents",
   "title_sidebar": "Contents",
   "toc_cell": false,
   "toc_position": {
    "height": "47.3125px",
    "left": "1210.11px",
    "top": "76.2222px",
    "width": "412px"
   },
   "toc_section_display": true,
   "toc_window_display": true
  },
  "varInspector": {
   "cols": {
    "lenName": 16,
    "lenType": 16,
    "lenVar": 40
   },
   "kernels_config": {
    "python": {
     "delete_cmd_postfix": "",
     "delete_cmd_prefix": "del ",
     "library": "var_list.py",
     "varRefreshCmd": "print(var_dic_list())"
    },
    "r": {
     "delete_cmd_postfix": ") ",
     "delete_cmd_prefix": "rm(",
     "library": "var_list.r",
     "varRefreshCmd": "cat(var_dic_list()) "
    }
   },
   "position": {
    "height": "673.667px",
    "left": "322.667px",
    "right": "20px",
    "top": "88px",
    "width": "800px"
   },
   "types_to_exclude": [
    "module",
    "function",
    "builtin_function_or_method",
    "instance",
    "_Feature"
   ],
   "window_display": false
  },
  "vscode": {
   "interpreter": {
    "hash": "b91e1d7709e620767a28d405a1c9407d7a588338117161980f330870b4b97175"
   }
  }
 },
 "nbformat": 4,
 "nbformat_minor": 4
}
