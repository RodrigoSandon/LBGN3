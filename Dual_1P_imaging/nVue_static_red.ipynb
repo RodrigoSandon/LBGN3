{
 "cells": [
  {
   "cell_type": "markdown",
   "metadata": {
    "ein.tags": "worksheet-0",
    "slideshow": {
     "slide_type": "-"
    }
   },
   "source": [
    "# Detect static red cells using Laplacian of Gaussian(LoG) filter and intensity threshold"
   ]
  },
  {
   "cell_type": "markdown",
   "metadata": {
    "ein.tags": "worksheet-0",
    "slideshow": {
     "slide_type": "-"
    }
   },
   "source": [
    "* Put this jupyter notebook, the helper_functions file and a red channel recording in the same folder.\n",
    "\n",
    "* Currently supporting tiff or isxd format. If the input file is a tiff, the user also needs to provide an isxd file with the same frame size (for metadata transfer, required for multi-color registration).\n",
    "\n",
    "* Adjust the [kernel size](#kernel_size) for the LoG filter, the image intensity threshold [#1](#intensity_threshold_1) and [#2](#intensity_threshold_2), the cell size threshold [#1](#cell_size1) and [#2](#cell_size2) until optimal detection has been achieved.\n",
    "\n",
    "* Require manual installation of cv2 package before opening jupyter notebook. [reference](https://anaconda.org/conda-forge/opencv)\n",
    "`conda install -c conda-forge opencv`"
   ]
  },
  {
   "cell_type": "markdown",
   "metadata": {
    "ein.tags": "worksheet-0",
    "slideshow": {
     "slide_type": "-"
    }
   },
   "source": [
    "## 0. Prepare libraries and load a static red recording for processing"
   ]
  },
  {
   "cell_type": "markdown",
   "metadata": {
    "ein.tags": "worksheet-0",
    "slideshow": {
     "slide_type": "-"
    }
   },
   "source": [
    "### 0.1 import libraries and helper functions\n"
   ]
  },
  {
   "cell_type": "code",
   "execution_count": null,
   "metadata": {
    "ExecuteTime": {
     "end_time": "2022-08-02T21:36:05.355972Z",
     "start_time": "2022-08-02T21:36:04.429943Z"
    },
    "autoscroll": false,
    "ein.hycell": false,
    "ein.tags": "worksheet-0",
    "scrolled": true,
    "slideshow": {
     "slide_type": "-"
    }
   },
   "outputs": [],
   "source": [
    "import isx\n",
    "import numpy as np\n",
    "import cv2\n",
    "from pathlib import Path  # to work with dir\n",
    "import os\n",
    "from helper_functions import *"
   ]
  },
  {
   "cell_type": "markdown",
   "metadata": {
    "ein.tags": "worksheet-0",
    "slideshow": {
     "slide_type": "-"
    }
   },
   "source": [
    "### 0.2 load a tiff image or a short recording in isxd format. The isxd file will be processed and converted to tiff format."
   ]
  },
  {
   "cell_type": "markdown",
   "metadata": {
    "ein.tags": "worksheet-0",
    "slideshow": {
     "slide_type": "-"
    }
   },
   "source": [
    "#### [isxd input only] spatial filter the isxd recording, project a mean image and convert to Tiff format"
   ]
  },
  {
   "cell_type": "code",
   "execution_count": null,
   "metadata": {
    "ExecuteTime": {
     "end_time": "2022-08-02T21:36:06.360966Z",
     "start_time": "2022-08-02T21:36:05.356945Z"
    },
    "autoscroll": false,
    "ein.hycell": false,
    "ein.tags": "worksheet-0",
    "slideshow": {
     "slide_type": "-"
    }
   },
   "outputs": [],
   "source": [
    "# change the input file name base on the file type: tiff or isxd\n",
    "# leave the tiff filename as default if the input file is an isxd file\n",
    "# a separate isxd file is required to copy metadata if analyzing a Tiff file\n",
    "\n",
    "tiff_filename = 'default.tiff'\n",
    "isxd_filename = '2022-05-30-18-54-51_video_red-PP.isxd'\n",
    "\n",
    "if tiff_filename == 'default.tiff':\n",
    "    input_isxd = Path(os.getcwd(), isxd_filename)\n",
    "    projected_red = project_isxd(input_isxd)\n",
    "    output_tiff = Path(os.getcwd(), input_isxd.stem + '.tiff')\n",
    "    isx.export_isxd_image_to_tiff(projected_red, str(output_tiff))\n",
    "    metadata_isxd = input_isxd\n",
    "else:\n",
    "    output_tiff = Path(os.getcwd(), tiff_filename)\n",
    "    metadata_isxd = Path(\"path/to/file\")"
   ]
  },
  {
   "cell_type": "markdown",
   "metadata": {
    "ein.tags": "worksheet-0",
    "slideshow": {
     "slide_type": "-"
    }
   },
   "source": [
    "### 0.3 display the unfiltered red channel image"
   ]
  },
  {
   "cell_type": "code",
   "execution_count": null,
   "metadata": {
    "ExecuteTime": {
     "end_time": "2022-08-02T21:36:06.487971Z",
     "start_time": "2022-08-02T21:36:06.362946Z"
    },
    "autoscroll": false,
    "ein.hycell": false,
    "ein.tags": "worksheet-0",
    "scrolled": true,
    "slideshow": {
     "slide_type": "-"
    }
   },
   "outputs": [],
   "source": [
    "img_tiff = cv2.imread(str(output_tiff), -1)  # gray scale conversion\n",
    "\n",
    "# zero meaned image is critical for LoG filter\n",
    "img_demean = img_tiff - np.mean(img_tiff)\n",
    "\n",
    "title = 'showing unfiltered mean projection image'\n",
    "show_img(img_demean, title=title, percentile=99)"
   ]
  },
  {
   "cell_type": "markdown",
   "metadata": {
    "ein.tags": "worksheet-0",
    "slideshow": {
     "slide_type": "-"
    }
   },
   "source": [
    "## 1. Enhance red cell contrast by convolving the image with a Laplacian of Gaussian (LoG) filter"
   ]
  },
  {
   "cell_type": "markdown",
   "metadata": {
    "ein.tags": "worksheet-0",
    "slideshow": {
     "slide_type": "-"
    }
   },
   "source": [
    "###  1.1 convolve the image with a LoG filter and display the convolved image"
   ]
  },
  {
   "cell_type": "markdown",
   "metadata": {
    "ExecuteTime": {
     "end_time": "2021-09-07T14:10:52.294596Z",
     "start_time": "2021-09-07T14:10:52.276595Z"
    },
    "ein.tags": "worksheet-0",
    "slideshow": {
     "slide_type": "-"
    }
   },
   "source": [
    "<a name=\"kernel_size\"> adjust the kernel_size</a>"
   ]
  },
  {
   "cell_type": "code",
   "execution_count": null,
   "metadata": {
    "ExecuteTime": {
     "end_time": "2022-08-02T21:36:06.583969Z",
     "start_time": "2022-08-02T21:36:06.489974Z"
    },
    "autoscroll": false,
    "ein.hycell": false,
    "ein.tags": "worksheet-0",
    "scrolled": true,
    "slideshow": {
     "slide_type": "-"
    }
   },
   "outputs": [],
   "source": [
    "# the average cell diameter in pixels measured with a line tool in the IDPS\n",
    "cell_diameter = 7\n",
    "\n",
    "#####################################################################\n",
    "# Adjust the kernel size/n to enhance the contrast of the cell body #\n",
    "n = 2  # default 2\n",
    "kernel_size = cell_diameter * n\n",
    "#####################################################################\n",
    "\n",
    "img_LoG = LoG_convolve(img_demean, kernel_size=kernel_size)\n",
    "\n",
    "title = 'the image after convolution with a LoG filter'\n",
    "show_img(img_LoG, title=title)"
   ]
  },
  {
   "cell_type": "markdown",
   "metadata": {
    "ein.tags": "worksheet-0",
    "slideshow": {
     "slide_type": "-"
    }
   },
   "source": [
    "### 1.2 apply intensity threshold to review suprathreshold ROIs"
   ]
  },
  {
   "cell_type": "markdown",
   "metadata": {
    "ExecuteTime": {
     "end_time": "2021-09-07T14:10:52.294596Z",
     "start_time": "2021-09-07T14:10:52.276595Z"
    },
    "ein.tags": "worksheet-0",
    "slideshow": {
     "slide_type": "-"
    }
   },
   "source": [
    "<a name=\"intensity_threshold_1\"> adjust the image intensity threshold 1</a>"
   ]
  },
  {
   "cell_type": "code",
   "execution_count": null,
   "metadata": {
    "ExecuteTime": {
     "end_time": "2022-08-02T21:36:06.996972Z",
     "start_time": "2022-08-02T21:36:06.584943Z"
    },
    "autoscroll": false,
    "ein.hycell": false,
    "ein.tags": "worksheet-0",
    "scrolled": false,
    "slideshow": {
     "slide_type": "-"
    }
   },
   "outputs": [],
   "source": [
    "################################################################\n",
    "# adjust the n_std to detect pixels with luminance\n",
    "# n times of standard deviation above the mean image intensity\n",
    "n_std = 1\n",
    "################################################################\n",
    "\n",
    "LoG_footprints = threshold_img(img_LoG, std_factor=n_std)\n",
    "\n",
    "title = f'detecting footprints that are {n_std} standard deviation above ' \\\n",
    "    'the mean image intensity'\n",
    "show_img(img_LoG, footprints=LoG_footprints, title=title)"
   ]
  },
  {
   "cell_type": "markdown",
   "metadata": {
    "ein.tags": "worksheet-0",
    "slideshow": {
     "slide_type": "-"
    }
   },
   "source": [
    "### 1.3 reject dark background that was enhanced with a second intensity threshold"
   ]
  },
  {
   "cell_type": "markdown",
   "metadata": {
    "ExecuteTime": {
     "end_time": "2021-09-07T14:10:52.294596Z",
     "start_time": "2021-09-07T14:10:52.276595Z"
    },
    "ein.tags": "worksheet-0",
    "slideshow": {
     "slide_type": "-"
    }
   },
   "source": [
    "<a name=\"intensity_threshold_2\"> adjust the image intensity threshold 2 to reject low luminance background</a>"
   ]
  },
  {
   "cell_type": "code",
   "execution_count": null,
   "metadata": {
    "ExecuteTime": {
     "end_time": "2022-08-02T21:36:07.392946Z",
     "start_time": "2022-08-02T21:36:06.997945Z"
    },
    "autoscroll": false,
    "ein.hycell": false,
    "ein.tags": "worksheet-0",
    "scrolled": false,
    "slideshow": {
     "slide_type": "-"
    }
   },
   "outputs": [],
   "source": [
    "########################################################################\n",
    "# adjust the image_threshold2 to reject background such as blood vessels\n",
    "# that could also be enhanced during LoG filtering\n",
    "image_threshold2 = 0.005\n",
    "########################################################################\n",
    "\n",
    "LoG_footprints = shrink_footprints(img_demean,\n",
    "                                   LoG_footprints,\n",
    "                                   threshold=image_threshold2)\n",
    "\n",
    "title = \"LoG filtered ROIs that are \" \\\n",
    "    f\"brighter than {image_threshold2*100}% of the raw image maximal luminance\"\n",
    "\n",
    "show_img(img_demean, LoG_footprints, title=title)"
   ]
  },
  {
   "cell_type": "markdown",
   "metadata": {
    "ein.tags": "worksheet-0",
    "slideshow": {
     "slide_type": "-"
    }
   },
   "source": [
    "## 2. Segment footprints with different sizes"
   ]
  },
  {
   "cell_type": "markdown",
   "metadata": {
    "ein.tags": "worksheet-0",
    "slideshow": {
     "slide_type": "-"
    }
   },
   "source": [
    "### 2.1 find non overlapping footprints by choosing a small size range"
   ]
  },
  {
   "cell_type": "markdown",
   "metadata": {
    "ExecuteTime": {
     "end_time": "2021-09-07T14:10:52.294596Z",
     "start_time": "2021-09-07T14:10:52.276595Z"
    },
    "ein.tags": "worksheet-0",
    "slideshow": {
     "slide_type": "-"
    }
   },
   "source": [
    "<a name=\"cell_size1\"> adjust the cell size threshold set 1</a>"
   ]
  },
  {
   "cell_type": "code",
   "execution_count": null,
   "metadata": {
    "ExecuteTime": {
     "end_time": "2022-08-02T21:36:08.818971Z",
     "start_time": "2022-08-02T21:36:07.393944Z"
    },
    "autoscroll": false,
    "ein.hycell": false,
    "ein.tags": "worksheet-0",
    "scrolled": false,
    "slideshow": {
     "slide_type": "-"
    }
   },
   "outputs": [],
   "source": [
    "##############################################################\n",
    "# adjust the size multipliers to filter cells with proper size\n",
    "max_size_multiplier = 3\n",
    "min_size_multiplier = 0.2\n",
    "##############################################################\n",
    "\n",
    "average_cell_area = np.pi * (cell_diameter * cell_diameter) / 4\n",
    "min_size = int(average_cell_area * min_size_multiplier)\n",
    "max_size = int(average_cell_area * max_size_multiplier)\n",
    "\n",
    "small_footprints = footprint_filter(img_LoG, LoG_footprints, max_size,\n",
    "                                    min_size)\n",
    "\n",
    "title = \"overlaying small size footprints\"\n",
    "show_img(img_demean, small_footprints, title=title)"
   ]
  },
  {
   "cell_type": "markdown",
   "metadata": {
    "ein.tags": "worksheet-0",
    "slideshow": {
     "slide_type": "-"
    }
   },
   "source": [
    "### 2.2 find slightly overlapping footprints by choosing a medium size range"
   ]
  },
  {
   "cell_type": "markdown",
   "metadata": {
    "ExecuteTime": {
     "end_time": "2021-09-07T14:10:52.294596Z",
     "start_time": "2021-09-07T14:10:52.276595Z"
    },
    "ein.tags": "worksheet-0",
    "slideshow": {
     "slide_type": "-"
    }
   },
   "source": [
    "<a name=\"cell_size2\"> adjust the cell size threshold set 2</a>"
   ]
  },
  {
   "cell_type": "code",
   "execution_count": null,
   "metadata": {
    "ExecuteTime": {
     "end_time": "2022-08-02T21:36:09.406975Z",
     "start_time": "2022-08-02T21:36:08.820946Z"
    },
    "autoscroll": false,
    "ein.hycell": false,
    "ein.tags": "worksheet-0",
    "slideshow": {
     "slide_type": "-"
    }
   },
   "outputs": [],
   "source": [
    "#############################################################\n",
    "# adjust the size multiplier to detect overlapping footprints\n",
    "max_size_multiplier2 = 8\n",
    "min_size_multiplier2 = 3\n",
    "#############################################################\n",
    "\n",
    "min_size = int(average_cell_area * min_size_multiplier2)\n",
    "max_size = int(average_cell_area * max_size_multiplier2)\n",
    "\n",
    "medium_footprints = footprint_filter(img_demean, LoG_footprints, max_size,\n",
    "                                     min_size)\n",
    "title = \"showing medium sized footprints\"\n",
    "show_img(img_demean, medium_footprints, title=title)"
   ]
  },
  {
   "cell_type": "markdown",
   "metadata": {
    "ein.tags": "worksheet-0",
    "slideshow": {
     "slide_type": "-"
    }
   },
   "source": [
    "### 2.3 split medium sized ROIs with watershed filter"
   ]
  },
  {
   "cell_type": "code",
   "execution_count": null,
   "metadata": {
    "ExecuteTime": {
     "end_time": "2022-08-02T21:36:09.532972Z",
     "start_time": "2022-08-02T21:36:09.408942Z"
    },
    "autoscroll": false,
    "ein.hycell": false,
    "ein.tags": "worksheet-0",
    "scrolled": true,
    "slideshow": {
     "slide_type": "-"
    }
   },
   "outputs": [],
   "source": [
    "# split multiple-cell ROIs with watershed filter\n",
    "splitted_footprints, _ = split_merge_cells(img_demean,\n",
    "                                           LoG_footprints,\n",
    "                                           medium_footprints,\n",
    "                                           cell_size=cell_diameter * 1.5)\n",
    "\n",
    "title = 'showing the splitted footprints from the two categories'\n",
    "show_img(img_demean, splitted_footprints, title=title, plot_individual=True)"
   ]
  },
  {
   "cell_type": "markdown",
   "metadata": {
    "ein.tags": "worksheet-0",
    "slideshow": {
     "slide_type": "-"
    }
   },
   "source": [
    "\n",
    "### 2.4 combine the two categories"
   ]
  },
  {
   "cell_type": "code",
   "execution_count": null,
   "metadata": {
    "ExecuteTime": {
     "end_time": "2022-08-02T21:36:17.538971Z",
     "start_time": "2022-08-02T21:36:09.534945Z"
    },
    "autoscroll": false,
    "ein.hycell": false,
    "ein.tags": "worksheet-0",
    "scrolled": true,
    "slideshow": {
     "slide_type": "-"
    }
   },
   "outputs": [],
   "source": [
    "final_footprints = merge_cells(small_footprints, splitted_footprints)\n",
    "title = 'showing the final footprints from the two categories'\n",
    "show_img(img_demean, final_footprints, title=title, plot_individual=True)"
   ]
  },
  {
   "cell_type": "markdown",
   "metadata": {
    "ein.tags": "worksheet-0",
    "slideshow": {
     "slide_type": "-"
    }
   },
   "source": [
    "## 3. Export footprints to an isxd file. The cellsets can be imported into IDPS for multicolor registration."
   ]
  },
  {
   "cell_type": "code",
   "execution_count": null,
   "metadata": {
    "ExecuteTime": {
     "end_time": "2022-08-02T21:36:18.078827Z",
     "start_time": "2022-08-02T21:36:17.539943Z"
    },
    "autoscroll": false,
    "ein.hycell": false,
    "ein.tags": "worksheet-0",
    "scrolled": true,
    "slideshow": {
     "slide_type": "-"
    }
   },
   "outputs": [],
   "source": [
    "# new file will be generated with a \"autoseg\" suffix,\n",
    "# which can be imported into Inscopix processing software\n",
    "# to further inspect individual red cell or\n",
    "# perform multicolor registration.\n",
    "\n",
    "footprints_export_to_isxd(metadata_isxd, final_footprints, suffix=\"_autoseg\")"
   ]
  }
 ],
 "metadata": {
  "kernelspec": {
   "display_name": "Python 3.6.13 ('isx')",
   "language": "python",
   "name": "python3"
  },
  "language_info": {
   "codemirror_mode": {
    "name": "ipython",
    "version": 3
   },
   "file_extension": ".py",
   "mimetype": "text/x-python",
   "name": "python",
   "nbconvert_exporter": "python",
   "pygments_lexer": "ipython3",
   "version": "3.6.13"
  },
  "metadata": {
   "interpreter": {
    "hash": "8e28345ecafcae226288d0106b10d4b05b1ba250a63a7c252a5c940fae3c18d7"
   }
  },
  "name": "nVue_static_red.ipynb",
  "toc": {
   "base_numbering": 1,
   "nav_menu": {
    "height": "12px",
    "width": "252px"
   },
   "number_sections": false,
   "sideBar": true,
   "skip_h1_title": true,
   "title_cell": "Table of Contents",
   "title_sidebar": "Contents",
   "toc_cell": false,
   "toc_position": {
    "height": "calc(100% - 180px)",
    "left": "10px",
    "top": "150px",
    "width": "481px"
   },
   "toc_section_display": true,
   "toc_window_display": false
  },
  "varInspector": {
   "cols": {
    "lenName": 16,
    "lenType": 16,
    "lenVar": 40
   },
   "kernels_config": {
    "python": {
     "delete_cmd_postfix": "",
     "delete_cmd_prefix": "del ",
     "library": "var_list.py",
     "varRefreshCmd": "print(var_dic_list())"
    },
    "r": {
     "delete_cmd_postfix": ") ",
     "delete_cmd_prefix": "rm(",
     "library": "var_list.r",
     "varRefreshCmd": "cat(var_dic_list()) "
    }
   },
   "position": {
    "height": "582.8px",
    "left": "1302.2px",
    "right": "20px",
    "top": "120px",
    "width": "521px"
   },
   "types_to_exclude": [
    "module",
    "function",
    "builtin_function_or_method",
    "instance",
    "_Feature"
   ],
   "window_display": false
  },
  "vscode": {
   "interpreter": {
    "hash": "b91e1d7709e620767a28d405a1c9407d7a588338117161980f330870b4b97175"
   }
  }
 },
 "nbformat": 4,
 "nbformat_minor": 4
}
