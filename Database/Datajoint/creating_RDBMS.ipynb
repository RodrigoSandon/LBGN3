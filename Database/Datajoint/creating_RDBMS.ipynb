{
 "cells": [
  {
   "cell_type": "code",
   "execution_count": 1,
   "metadata": {},
   "outputs": [
    {
     "name": "stdout",
     "output_type": "stream",
     "text": [
      "Connecting root@localhost:3306\n"
     ]
    }
   ],
   "source": [
    "import datajoint as dj\n",
    "dj.config['database.host'] = 'localhost'\n",
    "dj.config['database.user'] = 'root'\n",
    "dj.config['database.password'] = 'twiceblackpink9.'\n",
    "from RDBMS_tables import *"
   ]
  },
  {
   "attachments": {},
   "cell_type": "markdown",
   "metadata": {},
   "source": [
    "Populating with mice"
   ]
  },
  {
   "cell_type": "code",
   "execution_count": 2,
   "metadata": {},
   "outputs": [
    {
     "ename": "DuplicateError",
     "evalue": "(\"Duplicate entry 'BLA-Insc-1' for key 'PRIMARY'\", 'To ignore duplicate entries in insert, set skip_duplicates=True')",
     "output_type": "error",
     "traceback": [
      "\u001b[0;31m---------------------------------------------------------------------------\u001b[0m",
      "\u001b[0;31mDuplicateError\u001b[0m                            Traceback (most recent call last)",
      "\u001b[0;32m<ipython-input-2-8baf092bcd08>\u001b[0m in \u001b[0;36m<module>\u001b[0;34m\u001b[0m\n\u001b[1;32m     16\u001b[0m     \u001b[0;34m{\u001b[0m\u001b[0;34m'mouse_id'\u001b[0m\u001b[0;34m:\u001b[0m \u001b[0;34m'BLA-Insc-19'\u001b[0m\u001b[0;34m}\u001b[0m\u001b[0;34m\u001b[0m\u001b[0;34m\u001b[0m\u001b[0m\n\u001b[1;32m     17\u001b[0m ]\n\u001b[0;32m---> 18\u001b[0;31m \u001b[0mmouse\u001b[0m\u001b[0;34m.\u001b[0m\u001b[0minsert\u001b[0m\u001b[0;34m(\u001b[0m\u001b[0mdata\u001b[0m\u001b[0;34m)\u001b[0m\u001b[0;34m\u001b[0m\u001b[0;34m\u001b[0m\u001b[0m\n\u001b[0m",
      "\u001b[0;32m~/anaconda3/envs/bla_alignment/lib/python3.6/site-packages/datajoint/table.py\u001b[0m in \u001b[0;36minsert\u001b[0;34m(self, rows, replace, skip_duplicates, ignore_extra_fields, allow_direct_insert)\u001b[0m\n\u001b[1;32m    336\u001b[0m             \u001b[0;32mexcept\u001b[0m \u001b[0mDuplicateError\u001b[0m \u001b[0;32mas\u001b[0m \u001b[0merr\u001b[0m\u001b[0;34m:\u001b[0m\u001b[0;34m\u001b[0m\u001b[0;34m\u001b[0m\u001b[0m\n\u001b[1;32m    337\u001b[0m                 raise err.suggest(\n\u001b[0;32m--> 338\u001b[0;31m                     'To ignore duplicate entries in insert, set skip_duplicates=True')\n\u001b[0m\u001b[1;32m    339\u001b[0m \u001b[0;34m\u001b[0m\u001b[0m\n\u001b[1;32m    340\u001b[0m     \u001b[0;32mdef\u001b[0m \u001b[0mdelete_quick\u001b[0m\u001b[0;34m(\u001b[0m\u001b[0mself\u001b[0m\u001b[0;34m,\u001b[0m \u001b[0mget_count\u001b[0m\u001b[0;34m=\u001b[0m\u001b[0;32mFalse\u001b[0m\u001b[0;34m)\u001b[0m\u001b[0;34m:\u001b[0m\u001b[0;34m\u001b[0m\u001b[0;34m\u001b[0m\u001b[0m\n",
      "\u001b[0;31mDuplicateError\u001b[0m: (\"Duplicate entry 'BLA-Insc-1' for key 'PRIMARY'\", 'To ignore duplicate entries in insert, set skip_duplicates=True')"
     ]
    }
   ],
   "source": [
    "data = [\n",
    "    {'mouse_id': 'BLA-Insc-1'},\n",
    "    {'mouse_id': 'BLA-Insc-2'},\n",
    "    {'mouse_id': 'BLA-Insc-3'},\n",
    "    {'mouse_id': 'BLA-Insc-5'},\n",
    "    {'mouse_id': 'BLA-Insc-6'},\n",
    "    {'mouse_id': 'BLA-Insc-7'},\n",
    "    {'mouse_id': 'BLA-Insc-8'},\n",
    "    {'mouse_id': 'BLA-Insc-9'},\n",
    "    {'mouse_id': 'BLA-Insc-11'},\n",
    "    {'mouse_id': 'BLA-Insc-13'},\n",
    "    {'mouse_id': 'BLA-Insc-14'},\n",
    "    {'mouse_id': 'BLA-Insc-15'},\n",
    "    {'mouse_id': 'BLA-Insc-16'},\n",
    "    {'mouse_id': 'BLA-Insc-18'},\n",
    "    {'mouse_id': 'BLA-Insc-19'}\n",
    "]\n",
    "mouse.insert(data)"
   ]
  },
  {
   "cell_type": "code",
   "execution_count": 3,
   "metadata": {},
   "outputs": [
    {
     "data": {
      "text/html": [
       "\n",
       "    \n",
       "    <style type=\"text/css\">\n",
       "        .Relation{\n",
       "            border-collapse:collapse;\n",
       "        }\n",
       "        .Relation th{\n",
       "            background: #A0A0A0; color: #ffffff; padding:4px; border:#f0e0e0 1px solid;\n",
       "            font-weight: normal; font-family: monospace; font-size: 100%;\n",
       "        }\n",
       "        .Relation td{\n",
       "            padding:4px; border:#f0e0e0 1px solid; font-size:100%;\n",
       "        }\n",
       "        .Relation tr:nth-child(odd){\n",
       "            background: #ffffff;\n",
       "        }\n",
       "        .Relation tr:nth-child(even){\n",
       "            background: #f3f1ff;\n",
       "        }\n",
       "        /* Tooltip container */\n",
       "        .djtooltip {\n",
       "        }\n",
       "        /* Tooltip text */\n",
       "        .djtooltip .djtooltiptext {\n",
       "            visibility: hidden;\n",
       "            width: 120px;\n",
       "            background-color: black;\n",
       "            color: #fff;\n",
       "            text-align: center;\n",
       "            padding: 5px 0;\n",
       "            border-radius: 6px;\n",
       "            /* Position the tooltip text - see examples below! */\n",
       "            position: absolute;\n",
       "            z-index: 1;\n",
       "        }\n",
       "        #primary {\n",
       "            font-weight: bold;\n",
       "            color: black;\n",
       "        }\n",
       "        #nonprimary {\n",
       "            font-weight: normal;\n",
       "            color: white;\n",
       "        }\n",
       "\n",
       "        /* Show the tooltip text when you mouse over the tooltip container */\n",
       "        .djtooltip:hover .djtooltiptext {\n",
       "            visibility: visible;\n",
       "        }\n",
       "    </style>\n",
       "    \n",
       "    <b>mouse</b>\n",
       "        <div style=\"max-height:1000px;max-width:1500px;overflow:auto;\">\n",
       "        <table border=\"1\" class=\"Relation\">\n",
       "            <thead> <tr style=\"text-align: right;\"> <th> <div class=\"djtooltip\">\n",
       "                            <p id=\"primary\">mouse_id</p>\n",
       "                            <span class=\"djtooltiptext\">unique mouse_id</span>\n",
       "                        </div> </th> </tr> </thead>\n",
       "            <tbody> <tr> <td>BLA-Insc-1</td></tr><tr><td>BLA-Insc-11</td></tr><tr><td>BLA-Insc-13</td></tr><tr><td>BLA-Insc-14</td></tr><tr><td>BLA-Insc-15</td></tr><tr><td>BLA-Insc-16</td></tr><tr><td>BLA-Insc-18</td></tr><tr><td>BLA-Insc-19</td></tr><tr><td>BLA-Insc-2</td></tr><tr><td>BLA-Insc-3</td></tr><tr><td>BLA-Insc-5</td></tr><tr><td>BLA-Insc-6</td> </tr> </tbody>\n",
       "        </table>\n",
       "        <p>...</p>\n",
       "        <p>Total: 15</p></div>\n",
       "        "
      ],
      "text/plain": [
       "*mouse_id     \n",
       "+------------+\n",
       "BLA-Insc-1    \n",
       "BLA-Insc-11   \n",
       "BLA-Insc-13   \n",
       "BLA-Insc-14   \n",
       "BLA-Insc-15   \n",
       "BLA-Insc-16   \n",
       "BLA-Insc-18   \n",
       "BLA-Insc-19   \n",
       "BLA-Insc-2    \n",
       "BLA-Insc-3    \n",
       "BLA-Insc-5    \n",
       "BLA-Insc-6    \n",
       "   ...\n",
       " (Total: 15)"
      ]
     },
     "execution_count": 3,
     "metadata": {},
     "output_type": "execute_result"
    }
   ],
   "source": [
    "mouse"
   ]
  },
  {
   "cell_type": "code",
   "execution_count": 4,
   "metadata": {},
   "outputs": [
    {
     "data": {
      "text/plain": [
       "array([('BLA-Insc-1',), ('BLA-Insc-11',), ('BLA-Insc-13',),\n",
       "       ('BLA-Insc-14',), ('BLA-Insc-15',), ('BLA-Insc-16',),\n",
       "       ('BLA-Insc-18',), ('BLA-Insc-19',), ('BLA-Insc-2',),\n",
       "       ('BLA-Insc-3',), ('BLA-Insc-5',), ('BLA-Insc-6',), ('BLA-Insc-7',),\n",
       "       ('BLA-Insc-8',), ('BLA-Insc-9',)], dtype=[('mouse_id', 'O')])"
      ]
     },
     "execution_count": 4,
     "metadata": {},
     "output_type": "execute_result"
    }
   ],
   "source": [
    "query = mouse.fetch()\n",
    "query"
   ]
  },
  {
   "cell_type": "code",
   "execution_count": null,
   "metadata": {},
   "outputs": [],
   "source": []
  }
 ],
 "metadata": {
  "kernelspec": {
   "display_name": "bla_alignment",
   "language": "python",
   "name": "python3"
  },
  "language_info": {
   "codemirror_mode": {
    "name": "ipython",
    "version": 3
   },
   "file_extension": ".py",
   "mimetype": "text/x-python",
   "name": "python",
   "nbconvert_exporter": "python",
   "pygments_lexer": "ipython3",
   "version": "3.6.12"
  },
  "orig_nbformat": 4,
  "vscode": {
   "interpreter": {
    "hash": "f0c1a4fa92edca2265a1cfc62177a9b6653eafeeb7acd444da53e350e5ee6206"
   }
  }
 },
 "nbformat": 4,
 "nbformat_minor": 2
}
