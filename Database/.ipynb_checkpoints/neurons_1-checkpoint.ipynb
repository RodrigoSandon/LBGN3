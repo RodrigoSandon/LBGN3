{
 "cells": [
  {
   "cell_type": "code",
   "execution_count": 1,
   "metadata": {},
   "outputs": [],
   "source": [
    "import sqlite3 "
   ]
  },
  {
   "cell_type": "code",
   "execution_count": 2,
   "metadata": {},
   "outputs": [],
   "source": [
    "conn = sqlite3.connect('neurons.db') # opens database\n",
    "c = conn.cursor()"
   ]
  },
  {
   "cell_type": "code",
   "execution_count": 7,
   "metadata": {},
   "outputs": [
    {
     "data": {
      "text/plain": [
       "<sqlite3.Cursor at 0x7f83b0697ce0>"
      ]
     },
     "execution_count": 7,
     "metadata": {},
     "output_type": "execute_result"
    }
   ],
   "source": [
    "c.execute(\"\"\"\n",
    "\n",
    "CREATE TABLE neurons (\n",
    "    cell_name TEXT,\n",
    "    mouse_name TEXT,\n",
    "    avg_dff_trace REAL\n",
    ")\n",
    "\n",
    "\"\"\")\n",
    "conn.commit()"
   ]
  },
  {
   "cell_type": "code",
   "execution_count": 21,
   "metadata": {},
   "outputs": [],
   "source": [
    "c.execute(\"INSERT INTO neurons VALUES ('C01','BLA-Insc-1','20.5')\")\n",
    "conn.commit()"
   ]
  },
  {
   "cell_type": "code",
   "execution_count": 25,
   "metadata": {},
   "outputs": [],
   "source": [
    "cells = [\n",
    "    ('C02','BLA-Insc-3','20.5'),\n",
    "    ('C03','BLA-Insc-3','20.5'),\n",
    "    ('C04','BLA-Insc-3','20.5')\n",
    "]\n",
    "\n",
    "c.executemany(\"INSERT INTO neurons VALUES (?,?,?)\", cells)\n",
    "conn.commit()"
   ]
  },
  {
   "cell_type": "code",
   "execution_count": 7,
   "metadata": {},
   "outputs": [
    {
     "name": "stdout",
     "output_type": "stream",
     "text": [
      "('C01', 'BLA-Insc-1', 20.5)\n",
      "('C02', 'BLA-Insc-1', 20.5)\n",
      "('C03', 'BLA-Insc-1', 20.5)\n",
      "('C04', 'BLA-Insc-1', 20.5)\n"
     ]
    }
   ],
   "source": [
    "c.execute(\"SELECT * FROM neurons\")\n",
    "rows = c.fetchall()\n",
    "for row in rows:\n",
    "    print(row)"
   ]
  },
  {
   "cell_type": "code",
   "execution_count": 8,
   "metadata": {},
   "outputs": [
    {
     "name": "stdout",
     "output_type": "stream",
     "text": [
      "['cell_name', 'mouse_name', 'avg_dff_trace']\n"
     ]
    }
   ],
   "source": [
    "colnames = []\n",
    "for description in c.description :\n",
    "    colnames.append(description[0])\n",
    "\n",
    "print(colnames)"
   ]
  },
  {
   "cell_type": "code",
   "execution_count": 10,
   "metadata": {
    "scrolled": true
   },
   "outputs": [
    {
     "name": "stdout",
     "output_type": "stream",
     "text": [
      "(1, 'C01', 'BLA-Insc-1', 20.5)\n",
      "(2, 'C02', 'BLA-Insc-1', 20.5)\n",
      "(3, 'C03', 'BLA-Insc-1', 20.5)\n",
      "(4, 'C04', 'BLA-Insc-1', 20.5)\n"
     ]
    }
   ],
   "source": [
    "# we have row ids\n",
    "# most database systems you have to add in the primary key and have an incrementing mechanism\n",
    "# with, sqlite you don't have to do that\n",
    "c.execute(\"SELECT rowid, * FROM neurons\")\n",
    "rows = c.fetchall()\n",
    "for row in rows:\n",
    "    print(row)"
   ]
  },
  {
   "cell_type": "code",
   "execution_count": null,
   "metadata": {},
   "outputs": [],
   "source": [
    "\n"
   ]
  },
  {
   "cell_type": "code",
   "execution_count": 12,
   "metadata": {},
   "outputs": [],
   "source": [
    "conn.close()"
   ]
  }
 ],
 "metadata": {
  "interpreter": {
   "hash": "35800d3d0d64f953c3cd9d10abcbc631963af6bdd283b9efe2b7779e40743cab"
  },
  "kernelspec": {
   "display_name": "Python 3",
   "language": "python",
   "name": "python3"
  },
  "language_info": {
   "codemirror_mode": {
    "name": "ipython",
    "version": 3
   },
   "file_extension": ".py",
   "mimetype": "text/x-python",
   "name": "python",
   "nbconvert_exporter": "python",
   "pygments_lexer": "ipython3",
   "version": "3.6.13"
  }
 },
 "nbformat": 4,
 "nbformat_minor": 2
}
