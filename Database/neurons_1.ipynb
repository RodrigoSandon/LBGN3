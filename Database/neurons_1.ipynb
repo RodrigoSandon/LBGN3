{
 "cells": [
  {
   "cell_type": "code",
   "execution_count": 2,
   "metadata": {},
   "outputs": [],
   "source": [
    "import sqlite3 "
   ]
  },
  {
   "cell_type": "code",
   "execution_count": 3,
   "metadata": {},
   "outputs": [],
   "source": [
    "conn = sqlite3.connect('neurons.db') # opens database\n",
    "c = conn.cursor()"
   ]
  },
  {
   "cell_type": "code",
   "execution_count": 4,
   "metadata": {},
   "outputs": [],
   "source": [
    "test = \"test\"\n",
    "c.execute(f\"\"\"\n",
    "\n",
    "CREATE TABLE {test} (\n",
    "    cell_name TEXT,\n",
    "    mouse_name TEXT,\n",
    "    avg_dff_trace REAL\n",
    ")\n",
    "\n",
    "\"\"\")\n",
    "conn.commit()"
   ]
  },
  {
   "cell_type": "code",
   "execution_count": 21,
   "metadata": {},
   "outputs": [],
   "source": [
    "c.execute(\"INSERT INTO neurons VALUES ('C01','BLA-Insc-1','20.5')\")\n",
    "conn.commit()"
   ]
  },
  {
   "cell_type": "code",
   "execution_count": 11,
   "metadata": {},
   "outputs": [],
   "source": [
    "cells = [\n",
    "    ('C02','BLA-Insc-3','20.5'),\n",
    "    ('C03','BLA-Insc-3','20.5'),\n",
    "    ('C04','BLA-Insc-3','20.5')\n",
    "]\n",
    "\n",
    "c.executemany(\"INSERT INTO neurons VALUES (?,?,?)\", cells)\n",
    "conn.commit()"
   ]
  },
  {
   "cell_type": "markdown",
   "metadata": {},
   "source": []
  },
  {
   "cell_type": "code",
   "execution_count": 3,
   "metadata": {},
   "outputs": [
    {
     "name": "stdout",
     "output_type": "stream",
     "text": [
      "('C01', 'BLA-Insc-1', 20.5)\n",
      "('C02', 'BLA-Insc-1', 20.5)\n",
      "('C03', 'BLA-Insc-1', 20.5)\n",
      "('C04', 'BLA-Insc-1', 20.5)\n",
      "('C02', 'BLA-Insc-3', 20.5)\n",
      "('C03', 'BLA-Insc-3', 20.5)\n",
      "('C04', 'BLA-Insc-3', 20.5)\n"
     ]
    }
   ],
   "source": [
    "c.execute(\"SELECT * FROM neurons\")\n",
    "rows = c.fetchall()\n",
    "for row in rows:\n",
    "    print(row)"
   ]
  },
  {
   "cell_type": "code",
   "execution_count": 8,
   "metadata": {},
   "outputs": [
    {
     "name": "stdout",
     "output_type": "stream",
     "text": [
      "['cell_name', 'mouse_name', 'avg_dff_trace']\n"
     ]
    }
   ],
   "source": [
    "colnames = []\n",
    "for description in c.description :\n",
    "    colnames.append(description[0])\n",
    "\n",
    "print(colnames)"
   ]
  },
  {
   "cell_type": "code",
   "execution_count": 7,
   "metadata": {
    "scrolled": true
   },
   "outputs": [
    {
     "name": "stdout",
     "output_type": "stream",
     "text": [
      "(1, 'C01', 'BLA-Insc-1', 20.5)\n",
      "(2, 'C02', 'BLA-Insc-1', 20.5)\n",
      "(3, 'C03', 'BLA-Insc-1', 20.5)\n",
      "(4, 'C04', 'BLA-Insc-1', 20.5)\n",
      "(5, 'C02', 'BLA-Insc-3', 20.5)\n",
      "(6, 'C03', 'BLA-Insc-3', 20.5)\n",
      "(7, 'C04', 'BLA-Insc-3', 20.5)\n"
     ]
    }
   ],
   "source": [
    "# we have row ids\n",
    "# most database systems you have to add in the primary key and have an incrementing mechanism\n",
    "# with, sqlite you don't have to do that\n",
    "c.execute(\"SELECT rowid, * FROM neurons\")\n",
    "rows = c.fetchall()\n",
    "for row in rows:\n",
    "    print(row)"
   ]
  },
  {
   "cell_type": "code",
   "execution_count": 6,
   "metadata": {},
   "outputs": [
    {
     "name": "stdout",
     "output_type": "stream",
     "text": [
      "('C02', 'BLA-Insc-1', 20.5)\n"
     ]
    }
   ],
   "source": [
    "#Searching if a row exists already\n",
    "#Does C01 already exists?\n",
    "\n",
    "for row in c.execute(\"\"\"SELECT * FROM neurons GROUP BY cell_name HAVING cell_name = 'C02' \"\"\"):\n",
    "    print(row)"
   ]
  },
  {
   "cell_type": "code",
   "execution_count": 24,
   "metadata": {},
   "outputs": [
    {
     "name": "stdout",
     "output_type": "stream",
     "text": [
      "Result: ('C01', 'BLA-Insc-1', 20.5)\n",
      "Cell exists already!\n"
     ]
    }
   ],
   "source": [
    "# THIS IS IT!: for when you want to look up if a cell already exists!\n",
    "result = None\n",
    "look_for = \"C01\"\n",
    "for row in c.execute(\"\"\"SELECT * FROM neurons GROUP BY cell_name HAVING cell_name = (?)\"\"\", (look_for,)):\n",
    "    result = row\n",
    "\n",
    "print(f\"Result: {result}\")\n",
    "if isinstance(result, tuple):\n",
    "        print(\"Cell exists already!\")\n",
    "else:\n",
    "    print(\"Cell does not exist!\")\n"
   ]
  },
  {
   "cell_type": "code",
   "execution_count": 26,
   "metadata": {},
   "outputs": [
    {
     "name": "stdout",
     "output_type": "stream",
     "text": [
      "Result: None\n",
      "Cell does not exist!\n"
     ]
    }
   ],
   "source": [
    "result = None\n",
    "look_for = \"C07\"\n",
    "for row in c.execute(\"\"\"SELECT * FROM neurons WHERE neurons.cell_name = (?)\"\"\", (look_for,)):\n",
    "    result = row\n",
    "\n",
    "print(f\"Result: {result}\")\n",
    "if isinstance(result, tuple):\n",
    "        print(\"Cell exists already!\")\n",
    "else:\n",
    "    print(\"Cell does not exist!\")"
   ]
  },
  {
   "cell_type": "code",
   "execution_count": 15,
   "metadata": {},
   "outputs": [
    {
     "name": "stdout",
     "output_type": "stream",
     "text": [
      "('C02', 'BLA-Insc-1', 20.5)\n",
      "<class 'tuple'>\n",
      "('C02', 'BLA-Insc-3', 20.5)\n",
      "<class 'tuple'>\n"
     ]
    }
   ],
   "source": [
    "#THIS IS IT FOR GETTING ALL TUPLES YOU NEED\n",
    "\n",
    "for row in c.execute(\"\"\"SELECT * FROM neurons WHERE neurons.cell_name='C02' \"\"\"):\n",
    "    print(row)\n",
    "    print(type(row))"
   ]
  },
  {
   "cell_type": "code",
   "execution_count": 28,
   "metadata": {},
   "outputs": [
    {
     "name": "stdout",
     "output_type": "stream",
     "text": [
      "Result: (20.5,)\n",
      "<class 'tuple'>\n"
     ]
    }
   ],
   "source": [
    "#GETTING A SPEFIC VALUE\n",
    "result = None\n",
    "look_for = \"C01\"\n",
    "for row in c.execute(\"\"\"SELECT avg_dff_trace FROM neurons WHERE neurons.cell_name = (?)\"\"\", (look_for,)):\n",
    "    result = row\n",
    "\n",
    "print(f\"Result: {result}\")\n",
    "print(type(result))\n",
    "# so will always return a tuple, have a function that converts tuple of single element to that element"
   ]
  },
  {
   "cell_type": "code",
   "execution_count": 29,
   "metadata": {},
   "outputs": [],
   "source": [
    "class NeuronSessionTestManager:\n",
    "    def __init__(self, name):\n",
    "        self.name = name\n",
    "        self.d = {\"test_1\" : \"+\"}\n",
    "\n",
    "c.execute(\"\"\"\n",
    "\n",
    "CREATE TABLE neurons2 (\n",
    "    cell_name TEXT,\n",
    "    test_manager BLOB\n",
    ")\n",
    "\n",
    "\"\"\")\n",
    "conn.commit()"
   ]
  },
  {
   "cell_type": "code",
   "execution_count": 33,
   "metadata": {},
   "outputs": [
    {
     "ename": "InterfaceError",
     "evalue": "Error binding parameter 1 - probably unsupported type.",
     "output_type": "error",
     "traceback": [
      "\u001b[0;31m---------------------------------------------------------------------------\u001b[0m",
      "\u001b[0;31mInterfaceError\u001b[0m                            Traceback (most recent call last)",
      "\u001b[0;32m<ipython-input-33-7624a6da9c8d>\u001b[0m in \u001b[0;36m<module>\u001b[0;34m\u001b[0m\n\u001b[1;32m      1\u001b[0m \u001b[0mcell\u001b[0m \u001b[0;34m=\u001b[0m \u001b[0;34m\"C01\"\u001b[0m\u001b[0;34m\u001b[0m\u001b[0;34m\u001b[0m\u001b[0m\n\u001b[1;32m      2\u001b[0m \u001b[0mmanager_1\u001b[0m \u001b[0;34m=\u001b[0m \u001b[0mNeuronSessionTestManager\u001b[0m\u001b[0;34m(\u001b[0m\u001b[0mcell\u001b[0m\u001b[0;34m)\u001b[0m\u001b[0;34m\u001b[0m\u001b[0;34m\u001b[0m\u001b[0m\n\u001b[0;32m----> 3\u001b[0;31m \u001b[0mc\u001b[0m\u001b[0;34m.\u001b[0m\u001b[0mexecute\u001b[0m\u001b[0;34m(\u001b[0m\u001b[0;34m\"INSERT INTO neurons2 VALUES (?,?)\"\u001b[0m\u001b[0;34m,\u001b[0m \u001b[0;34m(\u001b[0m\u001b[0mcell\u001b[0m\u001b[0;34m,\u001b[0m \u001b[0mmanager_1\u001b[0m\u001b[0;34m,\u001b[0m\u001b[0;34m)\u001b[0m\u001b[0;34m)\u001b[0m\u001b[0;34m\u001b[0m\u001b[0;34m\u001b[0m\u001b[0m\n\u001b[0m\u001b[1;32m      4\u001b[0m \u001b[0mconn\u001b[0m\u001b[0;34m.\u001b[0m\u001b[0mcommit\u001b[0m\u001b[0;34m(\u001b[0m\u001b[0;34m)\u001b[0m\u001b[0;34m\u001b[0m\u001b[0;34m\u001b[0m\u001b[0m\n",
      "\u001b[0;31mInterfaceError\u001b[0m: Error binding parameter 1 - probably unsupported type."
     ]
    }
   ],
   "source": [
    "cell = \"C01\"\n",
    "manager_1 = NeuronSessionTestManager(cell)\n",
    "c.execute(\"INSERT INTO neurons2 VALUES (?,?)\", (cell, manager_1,))\n",
    "conn.commit()"
   ]
  },
  {
   "cell_type": "code",
   "execution_count": 12,
   "metadata": {},
   "outputs": [],
   "source": [
    "conn.close()"
   ]
  }
 ],
 "metadata": {
  "interpreter": {
   "hash": "35800d3d0d64f953c3cd9d10abcbc631963af6bdd283b9efe2b7779e40743cab"
  },
  "kernelspec": {
   "display_name": "Python 3",
   "language": "python",
   "name": "python3"
  },
  "language_info": {
   "codemirror_mode": {
    "name": "ipython",
    "version": 3
   },
   "file_extension": ".py",
   "mimetype": "text/x-python",
   "name": "python",
   "nbconvert_exporter": "python",
   "pygments_lexer": "ipython3",
   "version": "3.6.12"
  }
 },
 "nbformat": 4,
 "nbformat_minor": 2
}
