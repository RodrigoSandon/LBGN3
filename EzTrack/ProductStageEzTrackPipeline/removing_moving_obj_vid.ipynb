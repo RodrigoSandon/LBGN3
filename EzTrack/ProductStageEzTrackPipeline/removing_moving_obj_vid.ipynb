{
 "cells": [
  {
   "cell_type": "code",
   "execution_count": 9,
   "metadata": {},
   "outputs": [],
   "source": [
    "import cv2\n",
    "import numpy as np\n",
    "import os\n",
    "import math"
   ]
  },
  {
   "attachments": {},
   "cell_type": "markdown",
   "metadata": {},
   "source": [
    "# Technique 1 – Running Average\n",
    "\n",
    "The concept of running average is to detect active objects and remove them i.e. differentiate between pixels that seem to change over time and remove them. Here “Running” signifies the fact that the average is being computed over previous and current frames again and again until the frames are exhausted. Simply, the background is the mean of ‘n’ previous frames in the video.\n",
    "\n"
   ]
  },
  {
   "cell_type": "code",
   "execution_count": 31,
   "metadata": {},
   "outputs": [
    {
     "name": "stdout",
     "output_type": "stream",
     "text": [
      "['0.jpg', '1.jpg', '2.jpg', '3.jpg', '4.jpg', '5.jpg', '6.jpg', '7.jpg', '8.jpg', '9.jpg', '10.jpg', '11.jpg', '12.jpg', '13.jpg', '14.jpg', '15.jpg', '16.jpg', '17.jpg', '18.jpg', '19.jpg', '20.jpg', '21.jpg', '22.jpg', '23.jpg', '24.jpg', '25.jpg', '26.jpg', '27.jpg', '28.jpg', '29.jpg', '30.jpg', '31.jpg', '32.jpg', '33.jpg', '34.jpg']\n"
     ]
    },
    {
     "name": "stderr",
     "output_type": "stream",
     "text": [
      "[ERROR:0] global /home/conda/feedstock_root/build_artifacts/libopencv_1633502019957/work/modules/videoio/src/cap.cpp (587) open VIDEOIO(CV_IMAGES): raised OpenCV exception:\n",
      "\n",
      "OpenCV(4.5.3) /home/conda/feedstock_root/build_artifacts/libopencv_1633502019957/work/modules/videoio/src/cap_images.cpp:253: error: (-5:Bad argument) CAP_IMAGES: can't find starting number (in the name of file): /media/rory/Padlock_DT/Fear_Conditioning_Control/Olena_Group/080922_extinction_1/running_avgs in function 'icvExtractPattern'\n",
      "\n",
      "\n"
     ]
    }
   ],
   "source": [
    "\n",
    "def calculate_running_average(ROOT, file_path, num_bins):\n",
    "\n",
    "    cap = cv2.VideoCapture(file_path)\n",
    "    fps = cap.get(cv2.CAP_PROP_FPS)\n",
    "    num_frames = int(cap.get(cv2.CAP_PROP_FRAME_COUNT))\n",
    "\n",
    "    # Calculate the number of frames per bin\n",
    "    frames_per_bin = math.ceil(num_frames / num_bins)\n",
    "    image_num = 0\n",
    "    for i in range(num_bins):\n",
    "        start_frame = i * frames_per_bin\n",
    "        end_frame = min((i + 1) * frames_per_bin - 1, num_frames - 1)\n",
    "\n",
    "        cap.set(cv2.CAP_PROP_POS_FRAMES, start_frame)\n",
    "\n",
    "        current_frame = start_frame\n",
    "        first_iter = True\n",
    "\n",
    "        while True:\n",
    "            ret, frame = cap.read()\n",
    "\n",
    "            if frame is None or current_frame > end_frame:\n",
    "                break\n",
    "\n",
    "            if first_iter:\n",
    "                avg = np.float32(frame)\n",
    "                first_iter = False\n",
    "\n",
    "            cv2.accumulateWeighted(frame, avg, 0.005)\n",
    "            current_frame += 1\n",
    "\n",
    "        result = cv2.convertScaleAbs(avg)\n",
    "        outfile_name = f\"running_average_{start_frame}_{end_frame}.jpg\"\n",
    "        # we're going to save the jpg based on starting frame\n",
    "        cv2.imwrite(f\"{ROOT}/{image_num}.jpg\", result)\n",
    "        image_num += 1\n",
    "\n",
    "    cap.release()\n",
    "    return fps\n",
    "\n",
    "def create_video_from_images(image_folder, output_path, fps):\n",
    "    image_files = [file for file in os.listdir(image_folder) if file.endswith(\".jpg\")]\n",
    "    image_files = sorted(image_files, key=lambda x: int(os.path.splitext(x)[0]))\n",
    "    print(image_files)\n",
    "    image_path = os.path.join(image_folder, image_files[0])\n",
    "    img = cv2.imread(image_path)\n",
    "    height, width, _ = img.shape\n",
    "\n",
    "    fourcc = cv2.VideoWriter_fourcc(*\"mp4v\")\n",
    "    out = cv2.VideoWriter(output_path, fourcc, fps, (width, height))\n",
    "\n",
    "    for i, image_file in enumerate(image_files):\n",
    "        image_path = os.path.join(image_folder, image_file)\n",
    "        img = cv2.imread(image_path)\n",
    "        out.write(img)\n",
    "\n",
    "    out.release()\n",
    "\n",
    "# Use the function to calculate the running averages over different frame ranges\n",
    "file_path = \"/media/rory/Padlock_DT/Fear_Conditioning_Control/Olena_Group/080922_extinction_1/USB camera/hSyn-AS-Gi-1-220809-093642_Cam1.avi\"\n",
    "OUT_ROOT = \"/media/rory/Padlock_DT/Fear_Conditioning_Control/Olena_Group/080922_extinction_1/running_avgs\"\n",
    "\n",
    "fps = calculate_running_average(OUT_ROOT, file_path, num_bins=35)\n",
    "\n",
    "# Call the function to create the video\n",
    "create_video_from_images(OUT_ROOT, OUT_ROOT, fps)\n"
   ]
  },
  {
   "attachments": {},
   "cell_type": "markdown",
   "metadata": {},
   "source": [
    "# Technique 2 – Median filtering\n",
    "Temporal median filtering is one of a kind background subtraction method that approximates the median of each pixel to be the background. We can make the assumption that the median pixel is background due to the fact that the background is most likely to be in the video the longest. Thus we can apply this logic to frames as well and say that the background frame is equal to the mean of the previous ‘n’ frames. However, median filtering is a computationally heavy and time-consuming process thus its applications are limited."
   ]
  },
  {
   "cell_type": "code",
   "execution_count": null,
   "metadata": {},
   "outputs": [],
   "source": [
    "video = cv2.VideoCapture(file_path)\n",
    "FOI = video.get(cv2.CAP_PROP_FRAME_COUNT) * np.random.uniform(size=30)\n",
    "frames = []\n",
    "for frameOI in FOI:\n",
    "    video.set(cv2.CAP_PROP_POS_FRAMES, frameOI)\n",
    "    ret, frame = video.read()\n",
    "    frames.append(frame)\n",
    "result2 = np.median(frames, axis=0).astype(dtype=np.uint8)"
   ]
  },
  {
   "cell_type": "code",
   "execution_count": null,
   "metadata": {},
   "outputs": [],
   "source": [
    "cv2.imshow(\"Median filtering result\",result2) \n",
    "cv2.waitKey(0)"
   ]
  }
 ],
 "metadata": {
  "kernelspec": {
   "display_name": "eztrack",
   "language": "python",
   "name": "python3"
  },
  "language_info": {
   "codemirror_mode": {
    "name": "ipython",
    "version": 3
   },
   "file_extension": ".py",
   "mimetype": "text/x-python",
   "name": "python",
   "nbconvert_exporter": "python",
   "pygments_lexer": "ipython3",
   "version": "3.8.6"
  },
  "orig_nbformat": 4
 },
 "nbformat": 4,
 "nbformat_minor": 2
}
