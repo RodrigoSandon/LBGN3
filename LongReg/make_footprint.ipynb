{
 "cells": [
  {
   "cell_type": "code",
   "execution_count": 65,
   "metadata": {},
   "outputs": [],
   "source": [
    "import inscopix_cnmfe\n",
    "import isx\n",
    "import os, glob\n",
    "import numpy as np\n",
    "from PIL import Image\n",
    "import matplotlib.pyplot as plt\n",
    "from matplotlib import cm\n",
    "import pandas as pd"
   ]
  },
  {
   "cell_type": "code",
   "execution_count": 82,
   "metadata": {},
   "outputs": [
    {
     "data": {
      "text/plain": [
       "'dst = src.replace(\".isxd\", \".tif\")\\ntry:\\n    isx.export_movie_to_tiff(src, dst)\\nexcept Exception as e:\\n    print(e)\\n    pass'"
      ]
     },
     "execution_count": 82,
     "metadata": {},
     "output_type": "execute_result"
    }
   ],
   "source": [
    "def find_paths(root_path, endswith: str):\n",
    "    files = glob.glob(\n",
    "        os.path.join(root_path, \"**\", endswith), recursive=True,\n",
    "    )\n",
    "    return files\n",
    "\n",
    "dst = \"/media/rory/Padlock_DT/BLA_Analysis/PTP_Inscopix_#1/BLA-Insc-1/Pre-RDT RM/motion_corrected.tif\"\n",
    "cellset_path = \"/media/rory/Padlock_DT/BLA_Analysis/PTP_Inscopix_#1/BLA-Insc-1/Pre-RDT RM/cnmfe_cellset.isxd\"\n",
    "cnmfe_cellset = isx.CellSet.read(cellset_path)\n",
    "num_cells = cnmfe_cellset.num_cells\n",
    "mouse = cellset_path.split(\"/\")[6]\n",
    "session = cellset_path.split(\"/\")[7]\n",
    "\n",
    "\n",
    "\"\"\"dst = src.replace(\".isxd\", \".tif\")\n",
    "try:\n",
    "    isx.export_movie_to_tiff(src, dst)\n",
    "except Exception as e:\n",
    "    print(e)\n",
    "    pass\"\"\""
   ]
  },
  {
   "cell_type": "code",
   "execution_count": 83,
   "metadata": {},
   "outputs": [],
   "source": [
    "footprints, traces = inscopix_cnmfe.run_cnmfe(\n",
    "    input_movie_path=dst, \n",
    "    output_dir_path='output', \n",
    "    output_filetype=0,\n",
    "    average_cell_diameter=16,\n",
    "    min_pixel_correlation=0.7,\n",
    "    min_peak_to_noise_ratio=8,\n",
    "    gaussian_kernel_size=4,\n",
    "    closing_kernel_size=0,\n",
    "    background_downsampling_factor=1,\n",
    "    ring_size_factor=1.125,\n",
    "    merge_threshold=0.3,\n",
    "    num_threads=5,\n",
    "    processing_mode=2,\n",
    "    patch_size=80,\n",
    "    patch_overlap=20,\n",
    "    output_units=1,\n",
    ")"
   ]
  },
  {
   "cell_type": "code",
   "execution_count": 84,
   "metadata": {},
   "outputs": [
    {
     "name": "stdout",
     "output_type": "stream",
     "text": [
      "         0         1         2          3         4         5         6   \\\n",
      "0  0.685538  5.876531  2.659517   9.335667  4.635203 -0.644283  1.721727   \n",
      "1  1.571262  5.346201  1.887426   7.697803  1.996394 -0.532356  1.362117   \n",
      "2  2.349840  4.738593  1.360779   7.319066  2.014481  0.718466  0.855347   \n",
      "3  3.002005  6.850334  1.669703  15.418008  3.512583  0.121274  1.710395   \n",
      "4  2.797478  5.571459  0.506132  14.396134  3.387493  0.822241 -0.929986   \n",
      "\n",
      "         7         8         9   ...        48        49        50        51  \\\n",
      "0 -2.380634  4.322753  2.876704  ...  4.672603  3.154080 -0.250667 -1.408403   \n",
      "1  0.624313  0.827209  3.726662  ...  7.269340  4.471030 -1.424166  0.292777   \n",
      "2 -0.353305  0.717526  0.547960  ...  7.243671  2.640567 -1.157599 -0.513034   \n",
      "3 -1.007025  5.271232  2.012608  ...  5.014731  3.815519 -1.457119 -0.202252   \n",
      "4  0.631175  2.273231  1.996314  ...  5.241078  4.872539  1.802006 -1.074353   \n",
      "\n",
      "         52         53        54        55         56         57  \n",
      "0  4.086008  26.114243  3.155481  1.593480  67.680923  28.891624  \n",
      "1  2.157388  24.145580  2.864501  1.580718  65.394081  27.850719  \n",
      "2  1.762953  22.352531  2.969173  1.568625  63.256714  35.721584  \n",
      "3  3.490568  26.760283  4.314094  2.509521  68.696785  44.760571  \n",
      "4  2.565188  25.586098  3.386125  2.448720  68.876228  41.733379  \n",
      "\n",
      "[5 rows x 58 columns]\n"
     ]
    }
   ],
   "source": [
    "import pandas as pd\n",
    "df_footprint_traces = pd.DataFrame(np.transpose(traces), columns=[num for num in range(0, len(traces))])\n",
    "print(df_footprint_traces.head())"
   ]
  },
  {
   "cell_type": "code",
   "execution_count": 85,
   "metadata": {},
   "outputs": [
    {
     "name": "stdout",
     "output_type": "stream",
     "text": [
      "footprint 0 matches accepted cell C00\n",
      "footprint 1 matches accepted cell C01\n",
      "footprint 2 matches accepted cell C02\n",
      "footprint 6 matches accepted cell C06\n",
      "footprint 7 matches accepted cell C07\n",
      "footprint 8 matches accepted cell C08\n",
      "footprint 9 matches accepted cell C09\n",
      "footprint 10 matches accepted cell C10\n",
      "footprint 11 matches accepted cell C11\n",
      "footprint 16 matches accepted cell C17\n",
      "footprint 17 matches accepted cell C18\n",
      "footprint 19 matches accepted cell C20\n",
      "footprint 20 matches accepted cell C21\n",
      "footprint 21 matches accepted cell C22\n",
      "footprint 22 matches accepted cell C23\n",
      "footprint 23 matches accepted cell C24\n",
      "footprint 26 matches accepted cell C28\n",
      "footprint 27 matches accepted cell C29\n",
      "footprint 30 matches accepted cell C32\n",
      "footprint 32 matches accepted cell C35\n",
      "footprint 36 matches accepted cell C39\n",
      "footprint 37 matches accepted cell C40\n",
      "footprint 39 matches accepted cell C42\n",
      "footprint 41 matches accepted cell C44\n",
      "footprint 44 matches accepted cell C47\n",
      "footprint 45 matches accepted cell C48\n",
      "footprint 52 matches accepted cell C55\n",
      "footprint 55 matches accepted cell C58\n",
      "28\n"
     ]
    }
   ],
   "source": [
    "dst_dir = f\"/media/rory/Padlock_DT/BLA_Analysis/LongReg/CellReg/{mouse}/{session}\"\n",
    "os.makedirs(dst_dir, exist_ok=True)\n",
    "\n",
    "num_matches = 0\n",
    "# iterating over accepted cells\n",
    "for i in range(num_cells):\n",
    "    cell_status = cnmfe_cellset.get_cell_status(i)\n",
    "    cell_name = cnmfe_cellset.get_cell_name(i)\n",
    "    if str(cell_status) == \"accepted\":\n",
    "        #print(cell_name)\n",
    "        cell_trace = list(cnmfe_cellset.get_cell_trace_data(i))\n",
    "        cell_trace.sort()\n",
    "        #print(\"OG:\", cell_trace[:5])\n",
    "\n",
    "        for trace_idx, footprint_trace in enumerate(traces):\n",
    "            footprint_trace = list(footprint_trace)\n",
    "            footprint_trace.sort()\n",
    "            #print(footprint_trace[:5])\n",
    "\n",
    "            if cell_trace == footprint_trace:\n",
    "                #print(\"CHOSEN\", footprint_trace[:5])\n",
    "                footprint_idx = trace_idx\n",
    "                print(f\"footprint {footprint_idx} matches accepted cell {cell_name}\")\n",
    "                # appending idxs of the list of traces from footprints\n",
    "                # save footprint of same trace idx as tif\n",
    "                img = Image.fromarray(footprints[footprint_idx])\n",
    "                img.save(f\"{dst_dir}/{cell_name}_footprint.tif\")\n",
    "                num_matches += 1\n",
    "                break\n",
    "                \n",
    "print(num_matches)"
   ]
  }
 ],
 "metadata": {
  "kernelspec": {
   "display_name": "Python 3.6.13 ('isx')",
   "language": "python",
   "name": "python3"
  },
  "language_info": {
   "codemirror_mode": {
    "name": "ipython",
    "version": 3
   },
   "file_extension": ".py",
   "mimetype": "text/x-python",
   "name": "python",
   "nbconvert_exporter": "python",
   "pygments_lexer": "ipython3",
   "version": "3.6.13"
  },
  "orig_nbformat": 4,
  "vscode": {
   "interpreter": {
    "hash": "b91e1d7709e620767a28d405a1c9407d7a588338117161980f330870b4b97175"
   }
  }
 },
 "nbformat": 4,
 "nbformat_minor": 2
}
