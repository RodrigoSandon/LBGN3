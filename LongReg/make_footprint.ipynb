{
 "cells": [
  {
   "cell_type": "code",
   "execution_count": 1,
   "metadata": {},
   "outputs": [],
   "source": [
    "import inscopix_cnmfe\n",
    "import isx\n",
    "import os, glob\n",
    "import numpy as np\n",
    "from PIL import Image\n",
    "import matplotlib.pyplot as plt\n",
    "from matplotlib import cm"
   ]
  },
  {
   "cell_type": "code",
   "execution_count": 2,
   "metadata": {},
   "outputs": [
    {
     "ename": "",
     "evalue": "",
     "output_type": "error",
     "traceback": [
      "\u001b[1;31mThe Kernel crashed while executing code in the the current cell or a previous cell. Please review the code in the cell(s) to identify a possible cause of the failure. Click <a href='https://aka.ms/vscodeJupyterKernelCrash'>here</a> for more info. View Jupyter <a href='command:jupyter.viewOutput'>log</a> for further details."
     ]
    },
    {
     "ename": "",
     "evalue": "",
     "output_type": "error",
     "traceback": [
      "\u001b[1;31mCanceled future for execute_request message before replies were done"
     ]
    }
   ],
   "source": [
    "def find_paths(root_path, endswith: str):\n",
    "    files = glob.glob(\n",
    "        os.path.join(root_path, \"**\", endswith), recursive=True,\n",
    "    )\n",
    "    return files\n",
    "\n",
    "src = \"/media/rory/Padlock_DT/BLA_Analysis/PTP_Inscopix_#1/BLA-Insc-1/RDT D1/motion_corrected.isxd\"\n",
    "cellset_path = \"/media/rory/Padlock_DT/BLA_Analysis/PTP_Inscopix_#1/BLA-Insc-1/RDT D1/cnmfe_cellset_accepts.isxd\"\n",
    "cnmfe_cellset = isx.CellSet.read(cellset_path)\n",
    "num_cells = cnmfe_cellset.num_cells\n",
    "mouse = cellset_path.split(\"/\")[6]\n",
    "session = cellset_path.split(\"/\")[7]\n",
    "\n",
    "print(num_cells)\n",
    "\n",
    "\n",
    "dst = src.replace(\".isxd\", \".tif\")\n",
    "try:\n",
    "    isx.export_movie_to_tiff(src, dst)\n",
    "except Exception as e:\n",
    "    print(e)\n",
    "    pass\n",
    "\n",
    "footprints, traces = inscopix_cnmfe.run_cnmfe(\n",
    "    input_movie_path=dst, \n",
    "    output_dir_path='output', \n",
    "    output_filetype=0,\n",
    "    average_cell_diameter=16,\n",
    "    min_pixel_correlation=0.7,\n",
    "    min_peak_to_noise_ratio=8,\n",
    "    gaussian_kernel_size=4,\n",
    "    closing_kernel_size=0,\n",
    "    background_downsampling_factor=1,\n",
    "    ring_size_factor=1.125,\n",
    "    merge_threshold=0.3,\n",
    "    num_threads=5,\n",
    "    processing_mode=2,\n",
    "    patch_size=80,\n",
    "    patch_overlap=20,\n",
    "    output_units=1,\n",
    ")\n",
    "\n",
    "for i in range(num_cells):\n",
    "    cell_status = cnmfe_cellset.get_cell_status(i)\n",
    "    cell_name = cnmfe_cellset.get_cell_name(i)\n",
    "    if str(cell_status) == \"accepted\":\n",
    "        trace_accepted =  cnmfe_cellset.get_cell_trace_data(i)\n",
    "        trace_accepted_sub = trace_accepted[:10]\n",
    "\n",
    "        # match this with the traces of the footprints\n",
    "        for trace_idx in range(0, len(traces)):\n",
    "            footprint_trace_sub = traces[trace_idx][:10]\n",
    "            if trace_accepted_sub == footprint_trace_sub:\n",
    "                print(f\"footprint {trace_idx} matches accepted cell {cell_name}\")\n",
    "                print(footprint_trace_sub)\n",
    "                print(trace_accepted_sub)\n",
    "\n",
    "dst_dir = f\"/media/rory/Padlock_DT/BLA_Analysis/LongReg/CellReg/{mouse}/{session}\"\n",
    "os.makedirs(dst_dir, exist_ok=True)\n",
    "#print(len(footprints))\n",
    "\n",
    "for footprint_idx in range(0,len(footprints)):\n",
    "    img = Image.fromarray(footprints[footprint_idx])\n",
    "    img.save(f\"{dst_dir}/cell_{footprint_idx}.tif\")"
   ]
  }
 ],
 "metadata": {
  "kernelspec": {
   "display_name": "Python 3.6.13 ('isx')",
   "language": "python",
   "name": "python3"
  },
  "language_info": {
   "codemirror_mode": {
    "name": "ipython",
    "version": 3
   },
   "file_extension": ".py",
   "mimetype": "text/x-python",
   "name": "python",
   "nbconvert_exporter": "python",
   "pygments_lexer": "ipython3",
   "version": "3.6.13"
  },
  "orig_nbformat": 4,
  "vscode": {
   "interpreter": {
    "hash": "b91e1d7709e620767a28d405a1c9407d7a588338117161980f330870b4b97175"
   }
  }
 },
 "nbformat": 4,
 "nbformat_minor": 2
}
